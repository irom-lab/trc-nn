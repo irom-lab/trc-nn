{
 "cells": [
  {
   "cell_type": "code",
   "execution_count": 8,
   "metadata": {},
   "outputs": [],
   "source": [
    "import policies\n",
    "import scenarios\n",
    "import torch as pt\n",
    "import numpy as np\n",
    "\n",
    "def sample_initial_dist():\n",
    "    return np.random.uniform(0, 5)#np.random.normal(2.5, 0.1)\n",
    "\n",
    "def sample_sensor_noise(cov):\n",
    "    return np.random.normal(0, np.sqrt(cov))\n",
    "\n",
    "scenario = scenarios.LavaScenario(sample_initial_dist, lambda: sample_sensor_noise(0.001))"
   ]
  },
  {
   "cell_type": "code",
   "execution_count": 12,
   "metadata": {},
   "outputs": [
    {
     "name": "stdout",
     "output_type": "stream",
     "text": [
      "[0: 18.874]\t\tAvg. Cost: 2933.851\t\tEst. MI: -0.000\t\tTotal: 2933.806\n",
      "[1: 24.534]\t\tAvg. Cost: 2687.860\t\tEst. MI: -0.000\t\tTotal: 2687.842\n",
      "[2: 27.049]\t\tAvg. Cost: 2730.872\t\tEst. MI: 0.180\t\tTotal: 2748.914\n",
      "[3: 22.416]\t\tAvg. Cost: 3130.060\t\tEst. MI: 0.877\t\tTotal: 3217.788\n",
      "[4: 17.689]\t\tAvg. Cost: 2931.708\t\tEst. MI: 1.568\t\tTotal: 3088.523\n",
      "[5: 24.696]\t\tAvg. Cost: 2648.579\t\tEst. MI: 1.728\t\tTotal: 2821.354\n",
      "[6: 27.264]\t\tAvg. Cost: 2955.777\t\tEst. MI: 2.158\t\tTotal: 3171.585\n",
      "[7: 24.090]\t\tAvg. Cost: 2634.519\t\tEst. MI: 2.472\t\tTotal: 2881.696\n",
      "[8: 15.798]\t\tAvg. Cost: 2487.631\t\tEst. MI: 2.348\t\tTotal: 2722.436\n",
      "[9: 19.402]\t\tAvg. Cost: 2725.047\t\tEst. MI: 2.564\t\tTotal: 2981.474\n",
      "[10: 16.615]\t\tAvg. Cost: 2577.206\t\tEst. MI: 2.472\t\tTotal: 2824.391\n",
      "[11: 21.780]\t\tAvg. Cost: 2359.571\t\tEst. MI: 2.544\t\tTotal: 2613.937\n",
      "[12: 18.133]\t\tAvg. Cost: 2416.796\t\tEst. MI: 2.506\t\tTotal: 2667.444\n",
      "[13: 21.103]\t\tAvg. Cost: 2158.921\t\tEst. MI: 2.740\t\tTotal: 2432.911\n",
      "[14: 20.757]\t\tAvg. Cost: 2679.525\t\tEst. MI: 2.442\t\tTotal: 2923.737\n",
      "[15: 22.001]\t\tAvg. Cost: 2436.031\t\tEst. MI: 2.593\t\tTotal: 2695.353\n",
      "[16: 22.294]\t\tAvg. Cost: 2185.797\t\tEst. MI: 2.724\t\tTotal: 2458.246\n",
      "[17: 17.443]\t\tAvg. Cost: 2296.669\t\tEst. MI: 2.904\t\tTotal: 2587.071\n",
      "[18: 18.570]\t\tAvg. Cost: 2579.836\t\tEst. MI: 2.899\t\tTotal: 2869.719\n",
      "[19: 26.433]\t\tAvg. Cost: 2417.224\t\tEst. MI: 2.775\t\tTotal: 2694.763\n",
      "[20: 21.722]\t\tAvg. Cost: 2207.570\t\tEst. MI: 3.090\t\tTotal: 2516.608\n",
      "[21: 22.818]\t\tAvg. Cost: 2559.004\t\tEst. MI: 2.822\t\tTotal: 2841.194\n",
      "[22: 27.418]\t\tAvg. Cost: 2378.503\t\tEst. MI: 2.918\t\tTotal: 2670.332\n",
      "[23: 25.723]\t\tAvg. Cost: 2657.031\t\tEst. MI: 2.969\t\tTotal: 2953.901\n",
      "[24: 19.937]\t\tAvg. Cost: 2165.762\t\tEst. MI: 2.678\t\tTotal: 2433.532\n",
      "[25: 27.442]\t\tAvg. Cost: 2478.980\t\tEst. MI: 2.814\t\tTotal: 2760.337\n",
      "[26: 27.264]\t\tAvg. Cost: 2408.580\t\tEst. MI: 2.875\t\tTotal: 2696.095\n",
      "[27: 26.839]\t\tAvg. Cost: 2476.085\t\tEst. MI: 3.109\t\tTotal: 2786.976\n",
      "[28: 26.281]\t\tAvg. Cost: 2633.711\t\tEst. MI: 3.061\t\tTotal: 2939.811\n",
      "[29: 28.157]\t\tAvg. Cost: 2768.900\t\tEst. MI: 3.086\t\tTotal: 3077.451\n",
      "[30: 30.096]\t\tAvg. Cost: 2548.063\t\tEst. MI: 3.028\t\tTotal: 2850.876\n",
      "[31: 25.156]\t\tAvg. Cost: 2353.120\t\tEst. MI: 3.302\t\tTotal: 2683.350\n",
      "[32: 24.238]\t\tAvg. Cost: 2240.141\t\tEst. MI: 3.203\t\tTotal: 2560.424\n",
      "[33: 19.387]\t\tAvg. Cost: 2489.499\t\tEst. MI: 3.098\t\tTotal: 2799.315\n",
      "[34: 22.850]\t\tAvg. Cost: 2483.412\t\tEst. MI: 3.051\t\tTotal: 2788.490\n",
      "[35: 17.851]\t\tAvg. Cost: 1864.708\t\tEst. MI: 3.355\t\tTotal: 2200.250\n",
      "[36: 21.082]\t\tAvg. Cost: 2784.750\t\tEst. MI: 2.945\t\tTotal: 3079.209\n",
      "[37: 23.370]\t\tAvg. Cost: 2294.236\t\tEst. MI: 3.063\t\tTotal: 2600.507\n",
      "[38: 19.373]\t\tAvg. Cost: 2347.589\t\tEst. MI: 2.987\t\tTotal: 2646.297\n",
      "[39: 21.683]\t\tAvg. Cost: 2415.791\t\tEst. MI: 2.966\t\tTotal: 2712.350\n",
      "[40: 19.277]\t\tAvg. Cost: 2215.310\t\tEst. MI: 2.916\t\tTotal: 2506.895\n",
      "[41: 22.362]\t\tAvg. Cost: 2241.785\t\tEst. MI: 2.886\t\tTotal: 2530.350\n",
      "[42: 18.553]\t\tAvg. Cost: 2341.208\t\tEst. MI: 3.300\t\tTotal: 2671.172\n",
      "[43: 17.893]\t\tAvg. Cost: 2207.567\t\tEst. MI: 3.092\t\tTotal: 2516.760\n",
      "[44: 21.297]\t\tAvg. Cost: 2304.261\t\tEst. MI: 3.267\t\tTotal: 2630.932\n",
      "[45: 18.644]\t\tAvg. Cost: 2512.059\t\tEst. MI: 3.318\t\tTotal: 2843.870\n",
      "[46: 23.062]\t\tAvg. Cost: 2458.831\t\tEst. MI: 3.101\t\tTotal: 2768.967\n",
      "[47: 22.425]\t\tAvg. Cost: 2133.152\t\tEst. MI: 3.386\t\tTotal: 2471.750\n",
      "[48: 22.219]\t\tAvg. Cost: 2505.773\t\tEst. MI: 3.175\t\tTotal: 2823.311\n",
      "[49: 24.477]\t\tAvg. Cost: 2380.756\t\tEst. MI: 3.234\t\tTotal: 2704.116\n",
      "[50: 24.135]\t\tAvg. Cost: 2092.183\t\tEst. MI: 3.103\t\tTotal: 2402.484\n",
      "[51: 21.983]\t\tAvg. Cost: 2121.595\t\tEst. MI: 3.098\t\tTotal: 2431.349\n",
      "[52: 21.261]\t\tAvg. Cost: 2083.318\t\tEst. MI: 3.141\t\tTotal: 2397.455\n",
      "[53: 21.371]\t\tAvg. Cost: 2312.839\t\tEst. MI: 2.949\t\tTotal: 2607.712\n",
      "[54: 15.990]\t\tAvg. Cost: 2305.735\t\tEst. MI: 3.089\t\tTotal: 2614.594\n",
      "[55: 27.595]\t\tAvg. Cost: 1931.821\t\tEst. MI: 2.937\t\tTotal: 2225.556\n",
      "[56: 20.046]\t\tAvg. Cost: 2235.011\t\tEst. MI: 2.966\t\tTotal: 2531.573\n",
      "[57: 21.260]\t\tAvg. Cost: 2163.721\t\tEst. MI: 3.013\t\tTotal: 2464.993\n",
      "[58: 25.281]\t\tAvg. Cost: 1944.579\t\tEst. MI: 3.308\t\tTotal: 2275.424\n",
      "[59: 18.907]\t\tAvg. Cost: 2257.729\t\tEst. MI: 3.104\t\tTotal: 2568.142\n",
      "[60: 15.123]\t\tAvg. Cost: 2242.254\t\tEst. MI: 3.082\t\tTotal: 2550.500\n",
      "[61: 20.037]\t\tAvg. Cost: 2369.885\t\tEst. MI: 3.213\t\tTotal: 2691.231\n",
      "[62: 20.040]\t\tAvg. Cost: 2161.624\t\tEst. MI: 3.156\t\tTotal: 2477.256\n",
      "[63: 18.291]\t\tAvg. Cost: 2128.647\t\tEst. MI: 3.066\t\tTotal: 2435.289\n",
      "[64: 21.644]\t\tAvg. Cost: 2016.880\t\tEst. MI: 3.158\t\tTotal: 2332.646\n",
      "[65: 20.583]\t\tAvg. Cost: 2380.694\t\tEst. MI: 3.449\t\tTotal: 2725.617\n",
      "[66: 25.032]\t\tAvg. Cost: 2308.315\t\tEst. MI: 3.365\t\tTotal: 2644.822\n",
      "[67: 19.307]\t\tAvg. Cost: 2028.136\t\tEst. MI: 3.006\t\tTotal: 2328.740\n",
      "[68: 22.426]\t\tAvg. Cost: 1992.159\t\tEst. MI: 3.273\t\tTotal: 2319.480\n",
      "[69: 18.760]\t\tAvg. Cost: 1867.438\t\tEst. MI: 3.221\t\tTotal: 2189.554\n",
      "[70: 21.765]\t\tAvg. Cost: 2077.493\t\tEst. MI: 3.181\t\tTotal: 2395.576\n",
      "[71: 25.329]\t\tAvg. Cost: 2024.479\t\tEst. MI: 3.230\t\tTotal: 2347.485\n",
      "[72: 22.618]\t\tAvg. Cost: 2137.206\t\tEst. MI: 3.127\t\tTotal: 2449.889\n",
      "[73: 21.784]\t\tAvg. Cost: 1982.736\t\tEst. MI: 3.286\t\tTotal: 2311.343\n",
      "[74: 20.501]\t\tAvg. Cost: 2067.598\t\tEst. MI: 3.150\t\tTotal: 2382.646\n",
      "[75: 19.687]\t\tAvg. Cost: 1949.107\t\tEst. MI: 3.164\t\tTotal: 2265.508\n",
      "[76: 25.588]\t\tAvg. Cost: 2189.299\t\tEst. MI: 3.029\t\tTotal: 2492.156\n",
      "[77: 21.374]\t\tAvg. Cost: 1976.917\t\tEst. MI: 3.298\t\tTotal: 2306.678\n",
      "[78: 28.453]\t\tAvg. Cost: 2019.793\t\tEst. MI: 3.109\t\tTotal: 2330.659\n",
      "[79: 19.629]\t\tAvg. Cost: 2015.246\t\tEst. MI: 2.936\t\tTotal: 2308.835\n",
      "[80: 21.291]\t\tAvg. Cost: 2062.304\t\tEst. MI: 3.037\t\tTotal: 2365.990\n",
      "[81: 20.791]\t\tAvg. Cost: 1957.897\t\tEst. MI: 2.937\t\tTotal: 2251.629\n",
      "[82: 24.267]\t\tAvg. Cost: 2307.599\t\tEst. MI: 3.133\t\tTotal: 2620.938\n",
      "[83: 27.163]\t\tAvg. Cost: 2147.828\t\tEst. MI: 2.870\t\tTotal: 2434.791\n",
      "[84: 27.786]\t\tAvg. Cost: 1846.803\t\tEst. MI: 2.858\t\tTotal: 2132.566\n",
      "[85: 21.510]\t\tAvg. Cost: 1918.010\t\tEst. MI: 3.104\t\tTotal: 2228.379\n",
      "[86: 24.115]\t\tAvg. Cost: 1983.946\t\tEst. MI: 3.031\t\tTotal: 2286.998\n",
      "[87: 21.309]\t\tAvg. Cost: 2075.739\t\tEst. MI: 3.077\t\tTotal: 2383.465\n",
      "[88: 25.411]\t\tAvg. Cost: 2007.673\t\tEst. MI: 3.244\t\tTotal: 2332.041\n",
      "[89: 24.198]\t\tAvg. Cost: 2196.321\t\tEst. MI: 3.142\t\tTotal: 2510.486\n",
      "[90: 24.623]\t\tAvg. Cost: 1882.216\t\tEst. MI: 3.210\t\tTotal: 2203.214\n",
      "[91: 22.262]\t\tAvg. Cost: 1946.116\t\tEst. MI: 3.231\t\tTotal: 2269.174\n",
      "[92: 22.861]\t\tAvg. Cost: 1812.253\t\tEst. MI: 2.789\t\tTotal: 2091.201\n",
      "[93: 20.211]\t\tAvg. Cost: 2029.549\t\tEst. MI: 3.172\t\tTotal: 2346.787\n",
      "[94: 21.838]\t\tAvg. Cost: 1783.001\t\tEst. MI: 3.106\t\tTotal: 2093.552\n",
      "[95: 25.044]\t\tAvg. Cost: 2233.388\t\tEst. MI: 3.093\t\tTotal: 2542.679\n",
      "[96: 23.936]\t\tAvg. Cost: 1857.949\t\tEst. MI: 2.979\t\tTotal: 2155.884\n",
      "[97: 19.953]\t\tAvg. Cost: 2037.688\t\tEst. MI: 2.922\t\tTotal: 2329.854\n",
      "[98: 22.846]\t\tAvg. Cost: 2074.960\t\tEst. MI: 3.277\t\tTotal: 2402.706\n",
      "[99: 21.330]\t\tAvg. Cost: 1738.413\t\tEst. MI: 3.164\t\tTotal: 2054.772\n",
      "[100: 16.691]\t\tAvg. Cost: 1832.165\t\tEst. MI: 2.982\t\tTotal: 2130.409\n",
      "[101: 26.279]\t\tAvg. Cost: 1941.720\t\tEst. MI: 3.152\t\tTotal: 2256.896\n",
      "[102: 20.001]\t\tAvg. Cost: 1737.555\t\tEst. MI: 3.113\t\tTotal: 2048.882\n",
      "[103: 22.234]\t\tAvg. Cost: 1883.845\t\tEst. MI: 2.886\t\tTotal: 2172.426\n",
      "[104: 21.105]\t\tAvg. Cost: 1635.864\t\tEst. MI: 3.163\t\tTotal: 1952.150\n",
      "[105: 21.899]\t\tAvg. Cost: 2153.193\t\tEst. MI: 2.908\t\tTotal: 2444.022\n",
      "[106: 21.986]\t\tAvg. Cost: 1728.933\t\tEst. MI: 2.907\t\tTotal: 2019.588\n",
      "[107: 29.000]\t\tAvg. Cost: 1938.896\t\tEst. MI: 2.930\t\tTotal: 2231.862\n",
      "[108: 22.003]\t\tAvg. Cost: 1781.798\t\tEst. MI: 3.167\t\tTotal: 2098.525\n",
      "[109: 23.701]\t\tAvg. Cost: 1758.697\t\tEst. MI: 3.170\t\tTotal: 2075.676\n",
      "[110: 21.367]\t\tAvg. Cost: 1704.375\t\tEst. MI: 3.202\t\tTotal: 2024.617\n",
      "[111: 21.074]\t\tAvg. Cost: 1874.204\t\tEst. MI: 3.414\t\tTotal: 2215.640\n",
      "[112: 20.730]\t\tAvg. Cost: 1493.121\t\tEst. MI: 2.884\t\tTotal: 1781.505\n",
      "[113: 22.677]\t\tAvg. Cost: 1570.559\t\tEst. MI: 3.052\t\tTotal: 1875.777\n",
      "[114: 22.970]\t\tAvg. Cost: 1717.633\t\tEst. MI: 2.688\t\tTotal: 1986.439\n",
      "[115: 19.493]\t\tAvg. Cost: 1878.976\t\tEst. MI: 2.987\t\tTotal: 2177.659\n",
      "[116: 18.496]\t\tAvg. Cost: 1542.848\t\tEst. MI: 2.844\t\tTotal: 1827.273\n",
      "[117: 20.417]\t\tAvg. Cost: 1827.026\t\tEst. MI: 2.865\t\tTotal: 2113.527\n",
      "[118: 22.006]\t\tAvg. Cost: 1364.386\t\tEst. MI: 2.949\t\tTotal: 1659.310\n",
      "[119: 16.409]\t\tAvg. Cost: 1631.030\t\tEst. MI: 3.085\t\tTotal: 1939.521\n",
      "[120: 16.687]\t\tAvg. Cost: 1764.173\t\tEst. MI: 2.987\t\tTotal: 2062.873\n",
      "[121: 19.206]\t\tAvg. Cost: 1588.416\t\tEst. MI: 3.391\t\tTotal: 1927.480\n",
      "[122: 20.225]\t\tAvg. Cost: 1610.584\t\tEst. MI: 3.123\t\tTotal: 1922.839\n"
     ]
    },
    {
     "name": "stdout",
     "output_type": "stream",
     "text": [
      "[123: 22.875]\t\tAvg. Cost: 1800.813\t\tEst. MI: 3.104\t\tTotal: 2111.226\n",
      "[124: 20.725]\t\tAvg. Cost: 1639.088\t\tEst. MI: 3.070\t\tTotal: 1946.055\n",
      "[125: 21.182]\t\tAvg. Cost: 1483.261\t\tEst. MI: 3.157\t\tTotal: 1799.002\n",
      "[126: 18.856]\t\tAvg. Cost: 1527.776\t\tEst. MI: 3.225\t\tTotal: 1850.299\n",
      "[127: 20.140]\t\tAvg. Cost: 1572.225\t\tEst. MI: 3.484\t\tTotal: 1920.634\n",
      "[128: 22.235]\t\tAvg. Cost: 1699.327\t\tEst. MI: 3.497\t\tTotal: 2048.991\n",
      "[129: 27.760]\t\tAvg. Cost: 1906.106\t\tEst. MI: 3.652\t\tTotal: 2271.295\n",
      "[130: 20.108]\t\tAvg. Cost: 1605.503\t\tEst. MI: 3.317\t\tTotal: 1937.188\n",
      "[131: 22.193]\t\tAvg. Cost: 1425.656\t\tEst. MI: 3.116\t\tTotal: 1737.245\n",
      "[132: 19.761]\t\tAvg. Cost: 1616.634\t\tEst. MI: 3.253\t\tTotal: 1941.905\n",
      "[133: 21.478]\t\tAvg. Cost: 1543.037\t\tEst. MI: 3.139\t\tTotal: 1856.908\n",
      "[134: 21.600]\t\tAvg. Cost: 1672.581\t\tEst. MI: 3.535\t\tTotal: 2026.047\n",
      "[135: 18.222]\t\tAvg. Cost: 1740.174\t\tEst. MI: 3.299\t\tTotal: 2070.058\n",
      "[136: 19.645]\t\tAvg. Cost: 1591.352\t\tEst. MI: 3.293\t\tTotal: 1920.619\n",
      "[137: 15.387]\t\tAvg. Cost: 1469.776\t\tEst. MI: 3.279\t\tTotal: 1797.632\n",
      "[138: 18.749]\t\tAvg. Cost: 1633.240\t\tEst. MI: 3.139\t\tTotal: 1947.187\n",
      "[139: 18.349]\t\tAvg. Cost: 1352.141\t\tEst. MI: 3.511\t\tTotal: 1703.256\n",
      "[140: 18.421]\t\tAvg. Cost: 1691.819\t\tEst. MI: 3.247\t\tTotal: 2016.483\n",
      "[141: 16.054]\t\tAvg. Cost: 1641.067\t\tEst. MI: 3.340\t\tTotal: 1975.069\n",
      "[142: 16.633]\t\tAvg. Cost: 1498.239\t\tEst. MI: 3.301\t\tTotal: 1828.370\n",
      "[143: 19.973]\t\tAvg. Cost: 1384.580\t\tEst. MI: 3.199\t\tTotal: 1704.483\n",
      "[144: 18.284]\t\tAvg. Cost: 1352.126\t\tEst. MI: 3.182\t\tTotal: 1670.361\n",
      "[145: 17.638]\t\tAvg. Cost: 1332.379\t\tEst. MI: 3.334\t\tTotal: 1665.737\n",
      "[146: 17.650]\t\tAvg. Cost: 1158.821\t\tEst. MI: 3.410\t\tTotal: 1499.853\n",
      "[147: 16.933]\t\tAvg. Cost: 1129.051\t\tEst. MI: 3.473\t\tTotal: 1476.317\n",
      "[148: 20.491]\t\tAvg. Cost: 1399.611\t\tEst. MI: 3.256\t\tTotal: 1725.252\n",
      "[149: 25.167]\t\tAvg. Cost: 1232.770\t\tEst. MI: 3.459\t\tTotal: 1578.625\n",
      "[150: 17.722]\t\tAvg. Cost: 1364.016\t\tEst. MI: 3.646\t\tTotal: 1728.587\n",
      "[151: 18.960]\t\tAvg. Cost: 1671.295\t\tEst. MI: 3.219\t\tTotal: 1993.213\n",
      "[152: 24.399]\t\tAvg. Cost: 1364.328\t\tEst. MI: 3.261\t\tTotal: 1690.397\n",
      "[153: 23.861]\t\tAvg. Cost: 1494.311\t\tEst. MI: 3.468\t\tTotal: 1841.082\n",
      "[154: 20.143]\t\tAvg. Cost: 1487.602\t\tEst. MI: 3.491\t\tTotal: 1836.681\n",
      "[155: 20.731]\t\tAvg. Cost: 1233.782\t\tEst. MI: 3.612\t\tTotal: 1594.935\n",
      "[156: 19.197]\t\tAvg. Cost: 1382.879\t\tEst. MI: 3.218\t\tTotal: 1704.680\n",
      "[157: 19.045]\t\tAvg. Cost: 1394.473\t\tEst. MI: 3.376\t\tTotal: 1732.063\n",
      "[158: 25.249]\t\tAvg. Cost: 1379.883\t\tEst. MI: 3.655\t\tTotal: 1745.371\n",
      "[159: 21.725]\t\tAvg. Cost: 1399.505\t\tEst. MI: 3.362\t\tTotal: 1735.682\n",
      "[160: 16.529]\t\tAvg. Cost: 1342.784\t\tEst. MI: 3.208\t\tTotal: 1663.547\n",
      "[161: 20.887]\t\tAvg. Cost: 1366.301\t\tEst. MI: 3.555\t\tTotal: 1721.758\n",
      "[162: 20.513]\t\tAvg. Cost: 1253.066\t\tEst. MI: 3.261\t\tTotal: 1579.133\n",
      "[163: 21.192]\t\tAvg. Cost: 1163.114\t\tEst. MI: 3.464\t\tTotal: 1509.495\n",
      "[164: 18.855]\t\tAvg. Cost: 1340.005\t\tEst. MI: 3.331\t\tTotal: 1673.109\n",
      "[165: 22.588]\t\tAvg. Cost: 1638.214\t\tEst. MI: 3.517\t\tTotal: 1989.865\n",
      "[166: 16.301]\t\tAvg. Cost: 1257.747\t\tEst. MI: 3.431\t\tTotal: 1600.857\n",
      "[167: 25.146]\t\tAvg. Cost: 1227.214\t\tEst. MI: 3.361\t\tTotal: 1563.331\n",
      "[168: 19.157]\t\tAvg. Cost: 1342.809\t\tEst. MI: 3.782\t\tTotal: 1721.028\n",
      "[169: 16.976]\t\tAvg. Cost: 1387.002\t\tEst. MI: 3.305\t\tTotal: 1717.527\n",
      "[170: 17.169]\t\tAvg. Cost: 1523.478\t\tEst. MI: 3.620\t\tTotal: 1885.491\n",
      "[171: 21.518]\t\tAvg. Cost: 1322.286\t\tEst. MI: 3.396\t\tTotal: 1661.879\n",
      "[172: 17.440]\t\tAvg. Cost: 1402.011\t\tEst. MI: 3.631\t\tTotal: 1765.065\n",
      "[173: 17.801]\t\tAvg. Cost: 1295.544\t\tEst. MI: 3.595\t\tTotal: 1655.069\n",
      "[174: 15.875]\t\tAvg. Cost: 1325.189\t\tEst. MI: 3.431\t\tTotal: 1668.293\n",
      "[175: 18.092]\t\tAvg. Cost: 1411.787\t\tEst. MI: 3.392\t\tTotal: 1751.002\n",
      "[176: 21.592]\t\tAvg. Cost: 1444.357\t\tEst. MI: 3.501\t\tTotal: 1794.484\n",
      "[177: 23.744]\t\tAvg. Cost: 1431.461\t\tEst. MI: 3.546\t\tTotal: 1786.105\n",
      "[178: 18.011]\t\tAvg. Cost: 1501.200\t\tEst. MI: 3.600\t\tTotal: 1861.171\n",
      "[179: 21.465]\t\tAvg. Cost: 1281.755\t\tEst. MI: 3.663\t\tTotal: 1648.102\n",
      "[180: 25.435]\t\tAvg. Cost: 1268.881\t\tEst. MI: 3.551\t\tTotal: 1623.983\n",
      "[181: 19.538]\t\tAvg. Cost: 1396.971\t\tEst. MI: 3.702\t\tTotal: 1767.152\n",
      "[182: 22.842]\t\tAvg. Cost: 1159.870\t\tEst. MI: 3.773\t\tTotal: 1537.154\n",
      "[183: 18.987]\t\tAvg. Cost: 1132.039\t\tEst. MI: 3.465\t\tTotal: 1478.573\n",
      "[184: 23.609]\t\tAvg. Cost: 1215.358\t\tEst. MI: 3.278\t\tTotal: 1543.199\n",
      "[185: 19.288]\t\tAvg. Cost: 1332.375\t\tEst. MI: 3.436\t\tTotal: 1675.967\n",
      "[186: 18.286]\t\tAvg. Cost: 1230.474\t\tEst. MI: 3.654\t\tTotal: 1595.857\n",
      "[187: 24.985]\t\tAvg. Cost: 1003.071\t\tEst. MI: 3.563\t\tTotal: 1359.360\n",
      "[188: 23.320]\t\tAvg. Cost: 1481.507\t\tEst. MI: 3.499\t\tTotal: 1831.397\n",
      "[189: 23.111]\t\tAvg. Cost: 1138.284\t\tEst. MI: 3.634\t\tTotal: 1501.727\n",
      "[190: 22.444]\t\tAvg. Cost: 1281.811\t\tEst. MI: 3.498\t\tTotal: 1631.609\n",
      "[191: 21.112]\t\tAvg. Cost: 1186.279\t\tEst. MI: 3.534\t\tTotal: 1539.692\n",
      "[192: 20.375]\t\tAvg. Cost: 1309.042\t\tEst. MI: 3.639\t\tTotal: 1672.968\n",
      "[193: 18.389]\t\tAvg. Cost: 1243.445\t\tEst. MI: 3.607\t\tTotal: 1604.184\n",
      "[194: 21.897]\t\tAvg. Cost: 1052.927\t\tEst. MI: 3.517\t\tTotal: 1404.602\n",
      "[195: 19.366]\t\tAvg. Cost: 1479.562\t\tEst. MI: 3.914\t\tTotal: 1870.973\n",
      "[196: 20.480]\t\tAvg. Cost: 1419.497\t\tEst. MI: 3.549\t\tTotal: 1774.442\n",
      "[197: 15.961]\t\tAvg. Cost: 1217.133\t\tEst. MI: 3.614\t\tTotal: 1578.502\n",
      "[198: 18.339]\t\tAvg. Cost: 1277.600\t\tEst. MI: 3.531\t\tTotal: 1630.721\n",
      "[199: 19.398]\t\tAvg. Cost: 1341.376\t\tEst. MI: 3.807\t\tTotal: 1722.108\n",
      "[200: 23.081]\t\tAvg. Cost: 1224.233\t\tEst. MI: 3.381\t\tTotal: 1562.336\n",
      "[201: 17.912]\t\tAvg. Cost: 1377.253\t\tEst. MI: 3.551\t\tTotal: 1732.349\n",
      "[202: 18.258]\t\tAvg. Cost: 1288.047\t\tEst. MI: 3.456\t\tTotal: 1633.604\n",
      "[203: 28.838]\t\tAvg. Cost: 1255.116\t\tEst. MI: 3.566\t\tTotal: 1611.667\n",
      "[204: 21.902]\t\tAvg. Cost: 1278.439\t\tEst. MI: 3.560\t\tTotal: 1634.455\n",
      "[205: 21.277]\t\tAvg. Cost: 1536.119\t\tEst. MI: 3.888\t\tTotal: 1924.944\n",
      "[206: 22.037]\t\tAvg. Cost: 1110.812\t\tEst. MI: 3.554\t\tTotal: 1466.252\n",
      "[207: 21.393]\t\tAvg. Cost: 1540.694\t\tEst. MI: 3.820\t\tTotal: 1922.733\n",
      "[208: 24.053]\t\tAvg. Cost: 1245.269\t\tEst. MI: 3.656\t\tTotal: 1610.855\n",
      "[209: 28.275]\t\tAvg. Cost: 1258.694\t\tEst. MI: 3.589\t\tTotal: 1617.604\n",
      "[210: 21.102]\t\tAvg. Cost: 1274.682\t\tEst. MI: 3.815\t\tTotal: 1656.164\n",
      "[211: 27.209]\t\tAvg. Cost: 1301.182\t\tEst. MI: 3.719\t\tTotal: 1673.056\n",
      "[212: 22.207]\t\tAvg. Cost: 1111.425\t\tEst. MI: 3.551\t\tTotal: 1466.567\n",
      "[213: 24.783]\t\tAvg. Cost: 830.436\t\tEst. MI: 3.696\t\tTotal: 1200.077\n",
      "[214: 19.645]\t\tAvg. Cost: 1169.144\t\tEst. MI: 3.590\t\tTotal: 1528.148\n",
      "[215: 20.188]\t\tAvg. Cost: 1246.507\t\tEst. MI: 3.491\t\tTotal: 1595.630\n",
      "[216: 21.220]\t\tAvg. Cost: 1387.982\t\tEst. MI: 3.510\t\tTotal: 1738.948\n",
      "[217: 25.550]\t\tAvg. Cost: 1035.421\t\tEst. MI: 3.806\t\tTotal: 1416.053\n",
      "[218: 22.286]\t\tAvg. Cost: 1208.485\t\tEst. MI: 3.659\t\tTotal: 1574.373\n",
      "[219: 17.558]\t\tAvg. Cost: 1050.795\t\tEst. MI: 3.389\t\tTotal: 1389.740\n",
      "[220: 20.029]\t\tAvg. Cost: 1250.148\t\tEst. MI: 3.604\t\tTotal: 1610.513\n",
      "[221: 18.654]\t\tAvg. Cost: 1285.589\t\tEst. MI: 3.600\t\tTotal: 1645.560\n",
      "[222: 17.106]\t\tAvg. Cost: 1386.104\t\tEst. MI: 3.624\t\tTotal: 1748.490\n",
      "[223: 16.725]\t\tAvg. Cost: 1132.048\t\tEst. MI: 3.857\t\tTotal: 1517.755\n",
      "[224: 17.918]\t\tAvg. Cost: 1130.181\t\tEst. MI: 3.604\t\tTotal: 1490.566\n",
      "[225: 16.554]\t\tAvg. Cost: 1287.551\t\tEst. MI: 3.749\t\tTotal: 1662.425\n",
      "[226: 17.291]\t\tAvg. Cost: 1132.003\t\tEst. MI: 3.556\t\tTotal: 1487.577\n",
      "[227: 19.085]\t\tAvg. Cost: 1344.054\t\tEst. MI: 3.952\t\tTotal: 1739.243\n",
      "[228: 14.265]\t\tAvg. Cost: 1226.942\t\tEst. MI: 3.489\t\tTotal: 1575.824\n",
      "[229: 19.101]\t\tAvg. Cost: 1195.179\t\tEst. MI: 3.711\t\tTotal: 1566.328\n",
      "[230: 15.494]\t\tAvg. Cost: 1103.666\t\tEst. MI: 3.486\t\tTotal: 1452.302\n",
      "[231: 20.079]\t\tAvg. Cost: 1120.158\t\tEst. MI: 3.614\t\tTotal: 1481.600\n",
      "[232: 16.541]\t\tAvg. Cost: 1370.210\t\tEst. MI: 3.531\t\tTotal: 1723.344\n",
      "[233: 20.326]\t\tAvg. Cost: 1103.963\t\tEst. MI: 3.606\t\tTotal: 1464.516\n",
      "[234: 18.343]\t\tAvg. Cost: 1067.743\t\tEst. MI: 3.824\t\tTotal: 1450.175\n",
      "[235: 20.152]\t\tAvg. Cost: 1191.879\t\tEst. MI: 3.801\t\tTotal: 1572.027\n",
      "[236: 20.048]\t\tAvg. Cost: 1202.816\t\tEst. MI: 3.616\t\tTotal: 1564.383\n",
      "[237: 17.782]\t\tAvg. Cost: 1383.657\t\tEst. MI: 4.149\t\tTotal: 1798.586\n",
      "[238: 15.489]\t\tAvg. Cost: 1195.693\t\tEst. MI: 3.695\t\tTotal: 1565.180\n",
      "[239: 21.451]\t\tAvg. Cost: 1160.467\t\tEst. MI: 3.613\t\tTotal: 1521.738\n",
      "[240: 20.978]\t\tAvg. Cost: 1086.707\t\tEst. MI: 3.797\t\tTotal: 1466.430\n",
      "[241: 16.054]\t\tAvg. Cost: 1160.871\t\tEst. MI: 3.963\t\tTotal: 1557.176\n",
      "[242: 18.762]\t\tAvg. Cost: 1022.354\t\tEst. MI: 3.345\t\tTotal: 1356.857\n",
      "[243: 20.376]\t\tAvg. Cost: 1066.602\t\tEst. MI: 3.625\t\tTotal: 1429.128\n"
     ]
    },
    {
     "name": "stdout",
     "output_type": "stream",
     "text": [
      "[244: 18.241]\t\tAvg. Cost: 1216.823\t\tEst. MI: 3.689\t\tTotal: 1585.740\n",
      "[245: 18.440]\t\tAvg. Cost: 1242.658\t\tEst. MI: 4.018\t\tTotal: 1644.422\n",
      "[246: 18.941]\t\tAvg. Cost: 1200.326\t\tEst. MI: 3.737\t\tTotal: 1574.013\n",
      "[247: 17.635]\t\tAvg. Cost: 1190.048\t\tEst. MI: 3.732\t\tTotal: 1563.231\n",
      "[248: 20.961]\t\tAvg. Cost: 1281.776\t\tEst. MI: 3.752\t\tTotal: 1656.959\n",
      "[249: 16.542]\t\tAvg. Cost: 1103.675\t\tEst. MI: 3.743\t\tTotal: 1477.960\n",
      "[250: 20.397]\t\tAvg. Cost: 937.112\t\tEst. MI: 3.692\t\tTotal: 1306.305\n",
      "[251: 19.128]\t\tAvg. Cost: 946.543\t\tEst. MI: 3.670\t\tTotal: 1313.565\n",
      "[252: 24.183]\t\tAvg. Cost: 1215.229\t\tEst. MI: 4.056\t\tTotal: 1620.789\n",
      "[253: 26.320]\t\tAvg. Cost: 1105.173\t\tEst. MI: 3.803\t\tTotal: 1485.503\n",
      "[254: 27.457]\t\tAvg. Cost: 1275.607\t\tEst. MI: 3.619\t\tTotal: 1637.533\n",
      "[255: 20.944]\t\tAvg. Cost: 1207.591\t\tEst. MI: 3.866\t\tTotal: 1594.196\n",
      "[256: 20.089]\t\tAvg. Cost: 1388.719\t\tEst. MI: 3.680\t\tTotal: 1756.684\n",
      "[257: 25.876]\t\tAvg. Cost: 1275.946\t\tEst. MI: 3.933\t\tTotal: 1669.230\n",
      "[258: 24.901]\t\tAvg. Cost: 1253.802\t\tEst. MI: 3.551\t\tTotal: 1608.932\n",
      "[259: 22.743]\t\tAvg. Cost: 1022.330\t\tEst. MI: 3.963\t\tTotal: 1418.669\n",
      "[260: 20.868]\t\tAvg. Cost: 1105.947\t\tEst. MI: 3.892\t\tTotal: 1495.192\n",
      "[261: 27.242]\t\tAvg. Cost: 1110.272\t\tEst. MI: 3.791\t\tTotal: 1489.391\n",
      "[262: 20.770]\t\tAvg. Cost: 1262.469\t\tEst. MI: 4.020\t\tTotal: 1664.467\n",
      "[263: 23.515]\t\tAvg. Cost: 1234.760\t\tEst. MI: 4.090\t\tTotal: 1643.732\n",
      "[264: 23.541]\t\tAvg. Cost: 994.742\t\tEst. MI: 3.630\t\tTotal: 1357.787\n",
      "[265: 25.666]\t\tAvg. Cost: 839.096\t\tEst. MI: 3.519\t\tTotal: 1190.954\n",
      "[266: 19.033]\t\tAvg. Cost: 1028.824\t\tEst. MI: 3.737\t\tTotal: 1402.501\n",
      "[267: 19.937]\t\tAvg. Cost: 1263.624\t\tEst. MI: 3.752\t\tTotal: 1638.871\n",
      "[268: 23.878]\t\tAvg. Cost: 960.035\t\tEst. MI: 3.925\t\tTotal: 1352.499\n",
      "[269: 23.712]\t\tAvg. Cost: 1272.256\t\tEst. MI: 3.649\t\tTotal: 1637.151\n",
      "[270: 21.837]\t\tAvg. Cost: 1111.571\t\tEst. MI: 3.803\t\tTotal: 1491.863\n",
      "[271: 20.014]\t\tAvg. Cost: 1290.849\t\tEst. MI: 3.549\t\tTotal: 1645.743\n",
      "[272: 18.058]\t\tAvg. Cost: 1001.322\t\tEst. MI: 3.915\t\tTotal: 1392.862\n",
      "[273: 24.202]\t\tAvg. Cost: 1128.790\t\tEst. MI: 3.627\t\tTotal: 1491.518\n",
      "[274: 18.545]\t\tAvg. Cost: 1044.141\t\tEst. MI: 3.709\t\tTotal: 1415.053\n",
      "[275: 18.418]\t\tAvg. Cost: 1186.499\t\tEst. MI: 3.737\t\tTotal: 1560.192\n",
      "[276: 17.375]\t\tAvg. Cost: 1224.887\t\tEst. MI: 3.874\t\tTotal: 1612.289\n",
      "[277: 21.063]\t\tAvg. Cost: 1222.238\t\tEst. MI: 4.022\t\tTotal: 1624.392\n",
      "[278: 16.999]\t\tAvg. Cost: 1043.915\t\tEst. MI: 3.973\t\tTotal: 1441.228\n",
      "[279: 21.819]\t\tAvg. Cost: 1018.067\t\tEst. MI: 3.866\t\tTotal: 1404.624\n",
      "[280: 22.663]\t\tAvg. Cost: 970.660\t\tEst. MI: 3.943\t\tTotal: 1364.927\n",
      "[281: 22.256]\t\tAvg. Cost: 1168.453\t\tEst. MI: 4.058\t\tTotal: 1574.301\n",
      "[282: 21.281]\t\tAvg. Cost: 1112.734\t\tEst. MI: 3.618\t\tTotal: 1474.577\n",
      "[283: 21.294]\t\tAvg. Cost: 1013.164\t\tEst. MI: 3.810\t\tTotal: 1394.125\n",
      "[284: 20.759]\t\tAvg. Cost: 1022.988\t\tEst. MI: 3.786\t\tTotal: 1401.581\n",
      "[285: 19.070]\t\tAvg. Cost: 939.765\t\tEst. MI: 3.942\t\tTotal: 1333.995\n",
      "[286: 20.935]\t\tAvg. Cost: 1171.429\t\tEst. MI: 3.677\t\tTotal: 1539.117\n",
      "[287: 19.822]\t\tAvg. Cost: 799.854\t\tEst. MI: 3.610\t\tTotal: 1160.889\n",
      "[288: 27.482]\t\tAvg. Cost: 1051.401\t\tEst. MI: 3.810\t\tTotal: 1432.434\n",
      "[289: 18.716]\t\tAvg. Cost: 876.417\t\tEst. MI: 3.600\t\tTotal: 1236.368\n",
      "[290: 20.050]\t\tAvg. Cost: 1140.325\t\tEst. MI: 3.760\t\tTotal: 1516.322\n",
      "[291: 20.342]\t\tAvg. Cost: 1014.206\t\tEst. MI: 3.854\t\tTotal: 1399.580\n",
      "[292: 8.608]\t\tAvg. Cost: 995.240\t\tEst. MI: 3.457\t\tTotal: 1340.940\n",
      "[293: 8.567]\t\tAvg. Cost: 999.815\t\tEst. MI: 3.815\t\tTotal: 1381.343\n",
      "[294: 8.588]\t\tAvg. Cost: 1023.231\t\tEst. MI: 3.491\t\tTotal: 1372.364\n",
      "[295: 8.579]\t\tAvg. Cost: 1069.991\t\tEst. MI: 4.025\t\tTotal: 1472.447\n",
      "[296: 8.527]\t\tAvg. Cost: 1065.099\t\tEst. MI: 3.849\t\tTotal: 1449.990\n",
      "[297: 8.525]\t\tAvg. Cost: 1045.210\t\tEst. MI: 3.645\t\tTotal: 1409.733\n",
      "[298: 8.637]\t\tAvg. Cost: 812.418\t\tEst. MI: 3.844\t\tTotal: 1196.842\n",
      "[299: 8.668]\t\tAvg. Cost: 1032.521\t\tEst. MI: 3.957\t\tTotal: 1428.203\n"
     ]
    }
   ],
   "source": [
    "np.random.seed(0)\n",
    "pt.manual_seed(0)\n",
    "\n",
    "#policy = policies.PGPolicy(scenario, 5, 500, [256, 256], 0.1 * np.eye(scenario.ninputs))\n",
    "#policy.train(training_iterations=200, lr=0.001)\n",
    "\n",
    "ntrvs = 5\n",
    "\n",
    "policy = policies.MINEPolicy2(scenario, 5, 500, ntrvs, [64, 64], 0.1 * np.eye(ntrvs), [64, 64], 0.1 * np.eye(scenario.ninputs), 100, {'hidden_size' : 256, 'epochs' : 100})\n",
    "policy.train(nsamples=500, training_iterations=300, qlr=0.001, pilr=0.0001)"
   ]
  },
  {
   "cell_type": "code",
   "execution_count": null,
   "metadata": {},
   "outputs": [],
   "source": [
    "def test_sample_initial_dist():\n",
    "    return np.random.normal(2.5, 0.1)\n",
    "\n",
    "def test_sample_sensor_noise(cov):\n",
    "    return np.random.normal(0, np.sqrt(cov))\n",
    "\n",
    "test_scenario = scenarios.LavaScenario(test_sample_initial_dist, lambda: test_sample_sensor_noise(1))\n",
    "\n",
    "policy._scenario = test_scenario\n",
    "\n",
    "states, outputs, trvs, inputs, costs = policy.rollout(500)\n",
    "costs[0, :, :].sum(axis=0).mean().item()"
   ]
  },
  {
   "cell_type": "code",
   "execution_count": null,
   "metadata": {},
   "outputs": [],
   "source": [
    "def test_sample_initial_dist():\n",
    "    return np.random.uniform(3, 5)\n",
    "\n",
    "def test_sample_sensor_noise(cov):\n",
    "    return np.random.normal(0, np.sqrt(cov))\n",
    "\n",
    "test_scenario = scenarios.LavaScenario(test_sample_initial_dist, lambda: test_sample_sensor_noise(1))\n",
    "\n",
    "policy._scenario = test_scenario\n",
    "\n",
    "states, outputs, trvs, inputs, costs = policy.rollout(500)\n",
    "costs[0, :, :].sum(axis=0).mean().item()"
   ]
  },
  {
   "cell_type": "code",
   "execution_count": null,
   "metadata": {},
   "outputs": [],
   "source": [
    "inputs.mean(axis=2)"
   ]
  },
  {
   "cell_type": "code",
   "execution_count": null,
   "metadata": {},
   "outputs": [],
   "source": [
    "a = pt.zeros((3, 4, 2))"
   ]
  },
  {
   "cell_type": "code",
   "execution_count": null,
   "metadata": {},
   "outputs": [],
   "source": []
  },
  {
   "cell_type": "code",
   "execution_count": null,
   "metadata": {},
   "outputs": [],
   "source": [
    "costs.shape"
   ]
  },
  {
   "cell_type": "code",
   "execution_count": null,
   "metadata": {},
   "outputs": [],
   "source": [
    "a[:, 1, :]"
   ]
  },
  {
   "cell_type": "code",
   "execution_count": null,
   "metadata": {},
   "outputs": [],
   "source": [
    "b"
   ]
  },
  {
   "cell_type": "code",
   "execution_count": null,
   "metadata": {},
   "outputs": [],
   "source": [
    "policy._states[:, 0, :]"
   ]
  },
  {
   "cell_type": "code",
   "execution_count": null,
   "metadata": {},
   "outputs": [],
   "source": [
    "a = pt.zeros(3)"
   ]
  },
  {
   "cell_type": "code",
   "execution_count": null,
   "metadata": {},
   "outputs": [],
   "source": [
    "b = a"
   ]
  },
  {
   "cell_type": "code",
   "execution_count": null,
   "metadata": {},
   "outputs": [],
   "source": [
    "b[0] = 3\n",
    "a"
   ]
  },
  {
   "cell_type": "code",
   "execution_count": null,
   "metadata": {},
   "outputs": [],
   "source": [
    "a = pt.tensor([1.0, 5.0, 6.0, 23.0], requires_grad=True)"
   ]
  },
  {
   "cell_type": "code",
   "execution_count": null,
   "metadata": {},
   "outputs": [],
   "source": [
    "b = a **2"
   ]
  },
  {
   "cell_type": "code",
   "execution_count": null,
   "metadata": {},
   "outputs": [],
   "source": [
    "b.grad"
   ]
  },
  {
   "cell_type": "code",
   "execution_count": null,
   "metadata": {},
   "outputs": [],
   "source": [
    "c = b.sum()"
   ]
  },
  {
   "cell_type": "code",
   "execution_count": null,
   "metadata": {},
   "outputs": [],
   "source": [
    "c.backward()"
   ]
  },
  {
   "cell_type": "code",
   "execution_count": null,
   "metadata": {},
   "outputs": [],
   "source": [
    "print(a.grad)"
   ]
  },
  {
   "cell_type": "code",
   "execution_count": null,
   "metadata": {},
   "outputs": [],
   "source": [
    "c.requires_grad = True\n",
    "d = c / 2"
   ]
  },
  {
   "cell_type": "code",
   "execution_count": null,
   "metadata": {},
   "outputs": [],
   "source": [
    "d"
   ]
  },
  {
   "cell_type": "code",
   "execution_count": null,
   "metadata": {},
   "outputs": [],
   "source": [
    "b.sum()"
   ]
  },
  {
   "cell_type": "code",
   "execution_count": null,
   "metadata": {},
   "outputs": [],
   "source": [
    "c = pt.zeros(3)"
   ]
  },
  {
   "cell_type": "code",
   "execution_count": null,
   "metadata": {},
   "outputs": [],
   "source": [
    "c[1] = b.sum()"
   ]
  },
  {
   "cell_type": "code",
   "execution_count": null,
   "metadata": {},
   "outputs": [],
   "source": [
    "c.sum()"
   ]
  },
  {
   "cell_type": "code",
   "execution_count": null,
   "metadata": {},
   "outputs": [],
   "source": [
    "a.grad"
   ]
  },
  {
   "cell_type": "code",
   "execution_count": null,
   "metadata": {},
   "outputs": [],
   "source": [
    "a"
   ]
  },
  {
   "cell_type": "code",
   "execution_count": null,
   "metadata": {},
   "outputs": [],
   "source": [
    "x = pt.tensor([[1., -1.], [1., 1.]], requires_grad=True)\n",
    "out = x.pow(2).sum()\n",
    "out.backward()\n",
    "x.grad"
   ]
  },
  {
   "cell_type": "code",
   "execution_count": null,
   "metadata": {},
   "outputs": [],
   "source": [
    "pt.cat((pt.tensor([1, 3, 4,]), pt.tensor([4])))"
   ]
  },
  {
   "cell_type": "code",
   "execution_count": null,
   "metadata": {},
   "outputs": [],
   "source": []
  }
 ],
 "metadata": {
  "kernelspec": {
   "display_name": "Python 3",
   "language": "python",
   "name": "python3"
  },
  "language_info": {
   "codemirror_mode": {
    "name": "ipython",
    "version": 3
   },
   "file_extension": ".py",
   "mimetype": "text/x-python",
   "name": "python",
   "nbconvert_exporter": "python",
   "pygments_lexer": "ipython3",
   "version": "3.7.5"
  }
 },
 "nbformat": 4,
 "nbformat_minor": 2
}
