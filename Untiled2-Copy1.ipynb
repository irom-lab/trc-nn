{
 "cells": [
  {
   "cell_type": "code",
   "execution_count": 26,
   "metadata": {},
   "outputs": [],
   "source": [
    "import policies\n",
    "import scenarios\n",
    "import torch as pt\n",
    "import numpy as np\n",
    "\n",
    "def sample_initial_dist():\n",
    "    return np.random.uniform(0, 5)#np.random.normal(2.5, 0.1)\n",
    "\n",
    "def sample_sensor_noise(cov):\n",
    "    return np.random.normal(0, np.sqrt(cov))\n",
    "\n",
    "scenario = scenarios.LavaScenario(sample_initial_dist, lambda: sample_sensor_noise(0.001))"
   ]
  },
  {
   "cell_type": "code",
   "execution_count": 27,
   "metadata": {},
   "outputs": [
    {
     "name": "stdout",
     "output_type": "stream",
     "text": [
      "[0]\t\tAvg. Cost: 2651.317\t\tEst. MI: 1.319\t\tTotal: 2783.204\n",
      "[1]\t\tAvg. Cost: 1525.990\t\tEst. MI: 1.112\t\tTotal: 1637.187\n",
      "[2]\t\tAvg. Cost: 1646.848\t\tEst. MI: 0.573\t\tTotal: 1704.130\n",
      "[3]\t\tAvg. Cost: 1416.540\t\tEst. MI: 0.241\t\tTotal: 1440.661\n",
      "[4]\t\tAvg. Cost: 1571.108\t\tEst. MI: 0.206\t\tTotal: 1591.677\n",
      "[5]\t\tAvg. Cost: 1580.131\t\tEst. MI: 0.214\t\tTotal: 1601.522\n",
      "[6]\t\tAvg. Cost: 1444.158\t\tEst. MI: 0.355\t\tTotal: 1479.705\n",
      "[7]\t\tAvg. Cost: 1467.871\t\tEst. MI: 0.434\t\tTotal: 1511.222\n",
      "[8]\t\tAvg. Cost: 1496.824\t\tEst. MI: 0.448\t\tTotal: 1541.601\n",
      "[9]\t\tAvg. Cost: 1528.606\t\tEst. MI: 0.241\t\tTotal: 1552.734\n",
      "[10]\t\tAvg. Cost: 1543.290\t\tEst. MI: 0.213\t\tTotal: 1564.581\n",
      "[11]\t\tAvg. Cost: 1499.427\t\tEst. MI: 0.181\t\tTotal: 1517.532\n",
      "[12]\t\tAvg. Cost: 1571.526\t\tEst. MI: 0.210\t\tTotal: 1592.531\n",
      "[13]\t\tAvg. Cost: 1541.713\t\tEst. MI: 0.281\t\tTotal: 1569.786\n",
      "[14]\t\tAvg. Cost: 1476.835\t\tEst. MI: 0.203\t\tTotal: 1497.184\n",
      "[15]\t\tAvg. Cost: 1499.257\t\tEst. MI: 0.210\t\tTotal: 1520.215\n",
      "[16]\t\tAvg. Cost: 1439.546\t\tEst. MI: 0.211\t\tTotal: 1460.612\n",
      "[17]\t\tAvg. Cost: 1376.224\t\tEst. MI: 0.198\t\tTotal: 1396.023\n",
      "[18]\t\tAvg. Cost: 1401.917\t\tEst. MI: 0.232\t\tTotal: 1425.116\n",
      "[19]\t\tAvg. Cost: 1360.333\t\tEst. MI: 0.268\t\tTotal: 1387.169\n",
      "[20]\t\tAvg. Cost: 1534.710\t\tEst. MI: 0.143\t\tTotal: 1548.993\n",
      "[21]\t\tAvg. Cost: 1438.173\t\tEst. MI: 0.242\t\tTotal: 1462.353\n",
      "[22]\t\tAvg. Cost: 1408.013\t\tEst. MI: 0.189\t\tTotal: 1426.888\n",
      "[23]\t\tAvg. Cost: 1315.820\t\tEst. MI: 0.154\t\tTotal: 1331.248\n",
      "[24]\t\tAvg. Cost: 1420.927\t\tEst. MI: 0.197\t\tTotal: 1440.586\n",
      "[25]\t\tAvg. Cost: 1433.139\t\tEst. MI: 0.165\t\tTotal: 1449.683\n",
      "[26]\t\tAvg. Cost: 1406.960\t\tEst. MI: 0.123\t\tTotal: 1419.300\n",
      "[27]\t\tAvg. Cost: 1449.383\t\tEst. MI: 0.145\t\tTotal: 1463.837\n",
      "[28]\t\tAvg. Cost: 1343.476\t\tEst. MI: 0.163\t\tTotal: 1359.756\n",
      "[29]\t\tAvg. Cost: 1366.477\t\tEst. MI: 0.141\t\tTotal: 1380.568\n",
      "[30]\t\tAvg. Cost: 1387.594\t\tEst. MI: 0.169\t\tTotal: 1404.493\n",
      "[31]\t\tAvg. Cost: 1377.874\t\tEst. MI: 0.168\t\tTotal: 1394.687\n",
      "[32]\t\tAvg. Cost: 1360.309\t\tEst. MI: 0.068\t\tTotal: 1367.116\n",
      "[33]\t\tAvg. Cost: 1404.562\t\tEst. MI: 0.138\t\tTotal: 1418.343\n",
      "[34]\t\tAvg. Cost: 1414.108\t\tEst. MI: 0.122\t\tTotal: 1426.300\n",
      "[35]\t\tAvg. Cost: 1393.241\t\tEst. MI: 0.146\t\tTotal: 1407.805\n",
      "[36]\t\tAvg. Cost: 1429.340\t\tEst. MI: 0.104\t\tTotal: 1439.720\n",
      "[37]\t\tAvg. Cost: 1297.813\t\tEst. MI: 0.132\t\tTotal: 1310.998\n",
      "[38]\t\tAvg. Cost: 1428.147\t\tEst. MI: 0.134\t\tTotal: 1441.593\n",
      "[39]\t\tAvg. Cost: 1367.226\t\tEst. MI: 0.112\t\tTotal: 1378.442\n",
      "[40]\t\tAvg. Cost: 1419.191\t\tEst. MI: 0.081\t\tTotal: 1427.323\n",
      "[41]\t\tAvg. Cost: 1405.870\t\tEst. MI: 0.137\t\tTotal: 1419.602\n",
      "[42]\t\tAvg. Cost: 1312.347\t\tEst. MI: 0.103\t\tTotal: 1322.632\n",
      "[43]\t\tAvg. Cost: 1350.629\t\tEst. MI: 0.162\t\tTotal: 1366.844\n",
      "[44]\t\tAvg. Cost: 1349.349\t\tEst. MI: 0.114\t\tTotal: 1360.744\n",
      "[45]\t\tAvg. Cost: 1346.059\t\tEst. MI: 0.080\t\tTotal: 1354.063\n",
      "[46]\t\tAvg. Cost: 1352.193\t\tEst. MI: 0.118\t\tTotal: 1363.957\n",
      "[47]\t\tAvg. Cost: 1411.296\t\tEst. MI: 0.128\t\tTotal: 1424.132\n",
      "[48]\t\tAvg. Cost: 1339.158\t\tEst. MI: 0.091\t\tTotal: 1348.231\n",
      "[49]\t\tAvg. Cost: 1460.769\t\tEst. MI: 0.112\t\tTotal: 1471.919\n",
      "[50]\t\tAvg. Cost: 1362.072\t\tEst. MI: 0.118\t\tTotal: 1373.865\n",
      "[51]\t\tAvg. Cost: 1327.876\t\tEst. MI: 0.118\t\tTotal: 1339.694\n",
      "[52]\t\tAvg. Cost: 1356.654\t\tEst. MI: 0.111\t\tTotal: 1367.796\n",
      "[53]\t\tAvg. Cost: 1365.904\t\tEst. MI: 0.127\t\tTotal: 1378.616\n",
      "[54]\t\tAvg. Cost: 1271.606\t\tEst. MI: 0.075\t\tTotal: 1279.121\n",
      "[55]\t\tAvg. Cost: 1340.492\t\tEst. MI: 0.103\t\tTotal: 1350.830\n",
      "[56]\t\tAvg. Cost: 1402.065\t\tEst. MI: 0.126\t\tTotal: 1414.659\n",
      "[57]\t\tAvg. Cost: 1329.269\t\tEst. MI: 0.104\t\tTotal: 1339.656\n",
      "[58]\t\tAvg. Cost: 1323.000\t\tEst. MI: 0.127\t\tTotal: 1335.737\n",
      "[59]\t\tAvg. Cost: 1332.103\t\tEst. MI: 0.135\t\tTotal: 1345.576\n",
      "[60]\t\tAvg. Cost: 1303.196\t\tEst. MI: 0.151\t\tTotal: 1318.318\n",
      "[61]\t\tAvg. Cost: 1302.912\t\tEst. MI: 0.102\t\tTotal: 1313.085\n",
      "[62]\t\tAvg. Cost: 1340.160\t\tEst. MI: 0.115\t\tTotal: 1351.660\n",
      "[63]\t\tAvg. Cost: 1313.712\t\tEst. MI: 0.086\t\tTotal: 1322.360\n",
      "[64]\t\tAvg. Cost: 1364.843\t\tEst. MI: 0.107\t\tTotal: 1375.570\n",
      "[65]\t\tAvg. Cost: 1339.838\t\tEst. MI: 0.117\t\tTotal: 1351.575\n",
      "[66]\t\tAvg. Cost: 1428.856\t\tEst. MI: 0.100\t\tTotal: 1438.821\n",
      "[67]\t\tAvg. Cost: 1427.206\t\tEst. MI: 0.060\t\tTotal: 1433.166\n",
      "[68]\t\tAvg. Cost: 1407.780\t\tEst. MI: 0.107\t\tTotal: 1418.457\n",
      "[69]\t\tAvg. Cost: 1333.038\t\tEst. MI: 0.099\t\tTotal: 1342.978\n",
      "[70]\t\tAvg. Cost: 1360.613\t\tEst. MI: 0.108\t\tTotal: 1371.458\n",
      "[71]\t\tAvg. Cost: 1399.517\t\tEst. MI: 0.137\t\tTotal: 1413.198\n",
      "[72]\t\tAvg. Cost: 1397.169\t\tEst. MI: 0.153\t\tTotal: 1412.437\n",
      "[73]\t\tAvg. Cost: 1419.201\t\tEst. MI: 0.126\t\tTotal: 1431.817\n",
      "[74]\t\tAvg. Cost: 1337.116\t\tEst. MI: 0.105\t\tTotal: 1347.646\n",
      "[75]\t\tAvg. Cost: 1399.201\t\tEst. MI: 0.125\t\tTotal: 1411.681\n",
      "[76]\t\tAvg. Cost: 1357.949\t\tEst. MI: 0.141\t\tTotal: 1372.022\n",
      "[77]\t\tAvg. Cost: 1352.044\t\tEst. MI: 0.070\t\tTotal: 1359.013\n",
      "[78]\t\tAvg. Cost: 1373.999\t\tEst. MI: 0.108\t\tTotal: 1384.787\n",
      "[79]\t\tAvg. Cost: 1327.753\t\tEst. MI: 0.093\t\tTotal: 1337.031\n",
      "[80]\t\tAvg. Cost: 1340.696\t\tEst. MI: 0.120\t\tTotal: 1352.705\n",
      "[81]\t\tAvg. Cost: 1335.698\t\tEst. MI: 0.111\t\tTotal: 1346.823\n",
      "[82]\t\tAvg. Cost: 1419.404\t\tEst. MI: 0.093\t\tTotal: 1428.713\n",
      "[83]\t\tAvg. Cost: 1377.133\t\tEst. MI: 0.066\t\tTotal: 1383.772\n",
      "[84]\t\tAvg. Cost: 1364.289\t\tEst. MI: 0.085\t\tTotal: 1372.765\n",
      "[85]\t\tAvg. Cost: 1291.870\t\tEst. MI: 0.102\t\tTotal: 1302.112\n",
      "[86]\t\tAvg. Cost: 1298.425\t\tEst. MI: 0.123\t\tTotal: 1310.721\n",
      "[87]\t\tAvg. Cost: 1278.198\t\tEst. MI: 0.101\t\tTotal: 1288.275\n",
      "[88]\t\tAvg. Cost: 1388.895\t\tEst. MI: 0.105\t\tTotal: 1399.383\n",
      "[89]\t\tAvg. Cost: 1341.249\t\tEst. MI: 0.070\t\tTotal: 1348.252\n",
      "[90]\t\tAvg. Cost: 1314.631\t\tEst. MI: 0.074\t\tTotal: 1322.047\n",
      "[91]\t\tAvg. Cost: 1358.154\t\tEst. MI: 0.114\t\tTotal: 1369.536\n",
      "[92]\t\tAvg. Cost: 1346.429\t\tEst. MI: 0.081\t\tTotal: 1354.578\n",
      "[93]\t\tAvg. Cost: 1359.198\t\tEst. MI: 0.115\t\tTotal: 1370.670\n",
      "[94]\t\tAvg. Cost: 1395.622\t\tEst. MI: 0.095\t\tTotal: 1405.125\n",
      "[95]\t\tAvg. Cost: 1369.610\t\tEst. MI: 0.052\t\tTotal: 1374.810\n",
      "[96]\t\tAvg. Cost: 1339.720\t\tEst. MI: 0.084\t\tTotal: 1348.106\n",
      "[97]\t\tAvg. Cost: 1323.450\t\tEst. MI: 0.097\t\tTotal: 1333.140\n",
      "[98]\t\tAvg. Cost: 1361.598\t\tEst. MI: 0.066\t\tTotal: 1368.224\n",
      "[99]\t\tAvg. Cost: 1337.014\t\tEst. MI: 0.061\t\tTotal: 1343.122\n"
     ]
    }
   ],
   "source": [
    "np.random.seed(0)\n",
    "pt.manual_seed(0)\n",
    "\n",
    "#policy = policies.PGPolicy(scenario, 5, 500, [256, 256], 0.1 * np.eye(scenario.ninputs))\n",
    "#policy.train(training_iterations=200, lr=0.001)\n",
    "\n",
    "ntrvs = 5\n",
    "\n",
    "policy = policies.MINEPolicy(scenario, 5, 500, ntrvs, [256], 0.1 * np.eye(ntrvs), [256], 0.1 * np.eye(scenario.ninputs), 100, {'hidden_size' : 100})\n",
    "policy.train(nsamples=1000, training_iterations=100, qlr=0.001, pilr=0.001)"
   ]
  },
  {
   "cell_type": "code",
   "execution_count": 28,
   "metadata": {},
   "outputs": [
    {
     "data": {
      "text/plain": [
       "1165.2705078125"
      ]
     },
     "execution_count": 28,
     "metadata": {},
     "output_type": "execute_result"
    }
   ],
   "source": [
    "def test_sample_initial_dist():\n",
    "    return np.random.normal(2.5, 0.1)\n",
    "\n",
    "def test_sample_sensor_noise(cov):\n",
    "    return np.random.normal(0, np.sqrt(cov))\n",
    "\n",
    "test_scenario = scenarios.LavaScenario(test_sample_initial_dist, lambda: test_sample_sensor_noise(1))\n",
    "\n",
    "policy._scenario = test_scenario\n",
    "\n",
    "states, outputs, trvs, inputs, costs = policy.rollout(500)\n",
    "costs[0, :, :].sum(axis=0).mean().item()"
   ]
  },
  {
   "cell_type": "code",
   "execution_count": 33,
   "metadata": {},
   "outputs": [
    {
     "data": {
      "text/plain": [
       "1087.02978515625"
      ]
     },
     "execution_count": 33,
     "metadata": {},
     "output_type": "execute_result"
    }
   ],
   "source": [
    "def test_sample_initial_dist():\n",
    "    return np.random.uniform(3, 5)\n",
    "\n",
    "def test_sample_sensor_noise(cov):\n",
    "    return np.random.normal(0, np.sqrt(cov))\n",
    "\n",
    "test_scenario = scenarios.LavaScenario(test_sample_initial_dist, lambda: test_sample_sensor_noise(1))\n",
    "\n",
    "policy._scenario = test_scenario\n",
    "\n",
    "states, outputs, trvs, inputs, costs = policy.rollout(500)\n",
    "costs[0, :, :].sum(axis=0).mean().item()"
   ]
  },
  {
   "cell_type": "code",
   "execution_count": null,
   "metadata": {},
   "outputs": [],
   "source": [
    "inputs.mean(axis=2)"
   ]
  },
  {
   "cell_type": "code",
   "execution_count": 4,
   "metadata": {},
   "outputs": [],
   "source": [
    "a = pt.zeros((3, 4, 2))"
   ]
  },
  {
   "cell_type": "code",
   "execution_count": 19,
   "metadata": {},
   "outputs": [
    {
     "data": {
      "text/plain": [
       "1114.52587890625"
      ]
     },
     "execution_count": 19,
     "metadata": {},
     "output_type": "execute_result"
    }
   ],
   "source": []
  },
  {
   "cell_type": "code",
   "execution_count": 14,
   "metadata": {},
   "outputs": [
    {
     "data": {
      "text/plain": [
       "torch.Size([1, 6, 500])"
      ]
     },
     "execution_count": 14,
     "metadata": {},
     "output_type": "execute_result"
    }
   ],
   "source": [
    "costs.shape"
   ]
  },
  {
   "cell_type": "code",
   "execution_count": null,
   "metadata": {},
   "outputs": [],
   "source": [
    "a[:, 1, :]"
   ]
  },
  {
   "cell_type": "code",
   "execution_count": null,
   "metadata": {},
   "outputs": [],
   "source": [
    "b"
   ]
  },
  {
   "cell_type": "code",
   "execution_count": null,
   "metadata": {},
   "outputs": [],
   "source": [
    "policy._states[:, 0, :]"
   ]
  },
  {
   "cell_type": "code",
   "execution_count": null,
   "metadata": {},
   "outputs": [],
   "source": [
    "a = pt.zeros(3)"
   ]
  },
  {
   "cell_type": "code",
   "execution_count": null,
   "metadata": {},
   "outputs": [],
   "source": [
    "b = a"
   ]
  },
  {
   "cell_type": "code",
   "execution_count": null,
   "metadata": {},
   "outputs": [],
   "source": [
    "b[0] = 3\n",
    "a"
   ]
  },
  {
   "cell_type": "code",
   "execution_count": 15,
   "metadata": {},
   "outputs": [],
   "source": [
    "a = pt.tensor([1.0, 5.0, 6.0, 23.0], requires_grad=True)"
   ]
  },
  {
   "cell_type": "code",
   "execution_count": 16,
   "metadata": {},
   "outputs": [],
   "source": [
    "b = a **2"
   ]
  },
  {
   "cell_type": "code",
   "execution_count": 7,
   "metadata": {},
   "outputs": [],
   "source": [
    "b.grad"
   ]
  },
  {
   "cell_type": "code",
   "execution_count": 17,
   "metadata": {},
   "outputs": [],
   "source": [
    "c = b.sum()"
   ]
  },
  {
   "cell_type": "code",
   "execution_count": 18,
   "metadata": {},
   "outputs": [],
   "source": [
    "c.backward()"
   ]
  },
  {
   "cell_type": "code",
   "execution_count": 19,
   "metadata": {},
   "outputs": [
    {
     "name": "stdout",
     "output_type": "stream",
     "text": [
      "tensor([ 2., 10., 12., 46.])\n"
     ]
    }
   ],
   "source": [
    "print(a.grad)"
   ]
  },
  {
   "cell_type": "code",
   "execution_count": 25,
   "metadata": {},
   "outputs": [],
   "source": [
    "c.requires_grad = True\n",
    "d = c / 2"
   ]
  },
  {
   "cell_type": "code",
   "execution_count": 3,
   "metadata": {},
   "outputs": [
    {
     "ename": "NameError",
     "evalue": "name 'd' is not defined",
     "output_type": "error",
     "traceback": [
      "\u001b[0;31m---------------------------------------------------------------------------\u001b[0m",
      "\u001b[0;31mNameError\u001b[0m                                 Traceback (most recent call last)",
      "\u001b[0;32m<ipython-input-3-e983f374794d>\u001b[0m in \u001b[0;36m<module>\u001b[0;34m\u001b[0m\n\u001b[0;32m----> 1\u001b[0;31m \u001b[0md\u001b[0m\u001b[0;34m\u001b[0m\u001b[0;34m\u001b[0m\u001b[0m\n\u001b[0m",
      "\u001b[0;31mNameError\u001b[0m: name 'd' is not defined"
     ]
    }
   ],
   "source": [
    "d"
   ]
  },
  {
   "cell_type": "code",
   "execution_count": 10,
   "metadata": {},
   "outputs": [
    {
     "data": {
      "text/plain": [
       "tensor(591., grad_fn=<SumBackward0>)"
      ]
     },
     "execution_count": 10,
     "metadata": {},
     "output_type": "execute_result"
    }
   ],
   "source": [
    "b.sum()"
   ]
  },
  {
   "cell_type": "code",
   "execution_count": 11,
   "metadata": {},
   "outputs": [],
   "source": [
    "c = pt.zeros(3)"
   ]
  },
  {
   "cell_type": "code",
   "execution_count": 12,
   "metadata": {},
   "outputs": [],
   "source": [
    "c[1] = b.sum()"
   ]
  },
  {
   "cell_type": "code",
   "execution_count": 15,
   "metadata": {},
   "outputs": [
    {
     "data": {
      "text/plain": [
       "tensor(591., grad_fn=<SumBackward0>)"
      ]
     },
     "execution_count": 15,
     "metadata": {},
     "output_type": "execute_result"
    }
   ],
   "source": [
    "c.sum()"
   ]
  },
  {
   "cell_type": "code",
   "execution_count": 5,
   "metadata": {},
   "outputs": [],
   "source": [
    "a.grad"
   ]
  },
  {
   "cell_type": "code",
   "execution_count": 6,
   "metadata": {},
   "outputs": [
    {
     "data": {
      "text/plain": [
       "tensor([ 1.,  5.,  6., 23.], requires_grad=True)"
      ]
     },
     "execution_count": 6,
     "metadata": {},
     "output_type": "execute_result"
    }
   ],
   "source": [
    "a"
   ]
  },
  {
   "cell_type": "code",
   "execution_count": 14,
   "metadata": {},
   "outputs": [
    {
     "data": {
      "text/plain": [
       "tensor([[ 2., -2.],\n",
       "        [ 2.,  2.]])"
      ]
     },
     "execution_count": 14,
     "metadata": {},
     "output_type": "execute_result"
    }
   ],
   "source": [
    "x = pt.tensor([[1., -1.], [1., 1.]], requires_grad=True)\n",
    "out = x.pow(2).sum()\n",
    "out.backward()\n",
    "x.grad"
   ]
  },
  {
   "cell_type": "code",
   "execution_count": null,
   "metadata": {},
   "outputs": [],
   "source": []
  }
 ],
 "metadata": {
  "kernelspec": {
   "display_name": "Python 3",
   "language": "python",
   "name": "python3"
  },
  "language_info": {
   "codemirror_mode": {
    "name": "ipython",
    "version": 3
   },
   "file_extension": ".py",
   "mimetype": "text/x-python",
   "name": "python",
   "nbconvert_exporter": "python",
   "pygments_lexer": "ipython3",
   "version": "3.7.5"
  }
 },
 "nbformat": 4,
 "nbformat_minor": 2
}
