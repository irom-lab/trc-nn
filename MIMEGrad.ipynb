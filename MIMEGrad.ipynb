{
 "cells": [
  {
   "cell_type": "code",
   "execution_count": 15,
   "metadata": {},
   "outputs": [],
   "source": [
    "from networks import Mine, Klne, FFNet, moving_average\n",
    "import torch as pt\n",
    "import torch.optim as optim\n",
    "import matplotlib.pyplot as plt\n",
    "import numpy as np"
   ]
  },
  {
   "cell_type": "code",
   "execution_count": 16,
   "metadata": {},
   "outputs": [],
   "source": [
    "std_mvn = pt.distributions.MultivariateNormal(pt.zeros(3), pt.eye(3))\n",
    "\n",
    "target_cov = pt.diag(pt.rand(3))\n",
    "target_mean = pt.rand(3)\n",
    "target = pt.distributions.MultivariateNormal(target_mean, target_cov)"
   ]
  },
  {
   "cell_type": "code",
   "execution_count": 17,
   "metadata": {},
   "outputs": [],
   "source": [
    "def compute_kl(transform):\n",
    "    A = transform.weight.detach().numpy()\n",
    "    b = transform.bias.detach().numpy()\n",
    "\n",
    "    p_mean = b\n",
    "    p_cov = A @ A.T\n",
    "\n",
    "    q_cov = target_cov.numpy()\n",
    "    q_mean = target_mean.numpy()\n",
    "\n",
    "    mean_diff = p_mean - q_mean\n",
    "\n",
    "    kl = 0.5 * (np.trace(np.linalg.inv(q_cov) @ p_cov - np.eye(3)) + \n",
    "                mean_diff.T @ np.linalg.inv(q_cov) @ mean_diff \n",
    "                + np.log(np.linalg.det(q_cov) / np.linalg.det(p_cov)))\n",
    "    \n",
    "    return kl"
   ]
  },
  {
   "cell_type": "code",
   "execution_count": 18,
   "metadata": {},
   "outputs": [
    {
     "name": "stdout",
     "output_type": "stream",
     "text": [
      "[0]\t\tT:  0.132\t\tKL: 0.136\n",
      "[100]\t\tT:  0.334\t\tKL: 0.331\n",
      "[200]\t\tT:  0.437\t\tKL: 0.485\n",
      "[300]\t\tT:  0.618\t\tKL: 0.603\n",
      "[400]\t\tT:  0.713\t\tKL: 0.716\n",
      "[500]\t\tT:  0.792\t\tKL: 0.744\n",
      "[600]\t\tT:  0.822\t\tKL: 0.752\n",
      "[700]\t\tT:  0.8\t\tKL: 0.813\n",
      "[800]\t\tT:  0.815\t\tKL: 0.792\n",
      "[900]\t\tT:  0.878\t\tKL: 0.880\n",
      "[1000]\t\tT:  0.858\t\tKL: 0.805\n",
      "[1100]\t\tT:  0.706\t\tKL: 0.879\n",
      "[1200]\t\tT:  0.734\t\tKL: 0.815\n",
      "[1300]\t\tT:  0.845\t\tKL: 0.691\n",
      "[1400]\t\tT:  0.723\t\tKL: 0.681\n",
      "[1500]\t\tT:  0.667\t\tKL: 0.741\n",
      "[1600]\t\tT:  0.715\t\tKL: 0.602\n",
      "[1700]\t\tT:  0.678\t\tKL: 0.624\n",
      "[1800]\t\tT:  0.576\t\tKL: 0.654\n",
      "[1900]\t\tT:  0.675\t\tKL: 0.555\n",
      "[2000]\t\tT:  0.559\t\tKL: 0.590\n",
      "[2100]\t\tT:  0.511\t\tKL: 0.475\n",
      "[2200]\t\tT:  0.496\t\tKL: 0.400\n",
      "[2300]\t\tT:  0.471\t\tKL: 0.433\n",
      "[2400]\t\tT:  0.445\t\tKL: 0.538\n",
      "[2500]\t\tT:  0.501\t\tKL: 0.366\n",
      "[2600]\t\tT:  0.439\t\tKL: 0.422\n",
      "[2700]\t\tT:  0.464\t\tKL: 0.428\n",
      "[2800]\t\tT:  0.329\t\tKL: 0.368\n",
      "[2900]\t\tT:  0.383\t\tKL: 0.401\n",
      "[3000]\t\tT:  0.36\t\tKL: 0.388\n",
      "[3100]\t\tT:  0.357\t\tKL: 0.382\n",
      "[3200]\t\tT:  0.376\t\tKL: 0.279\n",
      "[3300]\t\tT:  0.336\t\tKL: 0.335\n",
      "[3400]\t\tT:  0.31\t\tKL: 0.360\n",
      "[3500]\t\tT:  0.25\t\tKL: 0.338\n",
      "[3600]\t\tT:  0.358\t\tKL: 0.317\n",
      "[3700]\t\tT:  0.239\t\tKL: 0.322\n",
      "[3800]\t\tT:  0.286\t\tKL: 0.269\n",
      "[3900]\t\tT:  0.24\t\tKL: 0.256\n",
      "[4000]\t\tT:  0.231\t\tKL: 0.272\n",
      "[4100]\t\tT:  0.232\t\tKL: 0.215\n",
      "[4200]\t\tT:  0.235\t\tKL: 0.211\n",
      "[4300]\t\tT:  0.198\t\tKL: 0.169\n",
      "[4400]\t\tT:  0.173\t\tKL: 0.233\n",
      "[4500]\t\tT:  0.21\t\tKL: 0.171\n",
      "[4600]\t\tT:  0.123\t\tKL: 0.227\n",
      "[4700]\t\tT:  0.152\t\tKL: 0.138\n",
      "[4800]\t\tT:  0.134\t\tKL: 0.178\n",
      "[4900]\t\tT:  0.159\t\tKL: 0.121\n",
      "[5000]\t\tT:  0.108\t\tKL: 0.108\n",
      "[5100]\t\tT:  0.115\t\tKL: 0.110\n",
      "[5200]\t\tT:  0.0882\t\tKL: 0.122\n",
      "[5300]\t\tT:  0.125\t\tKL: 0.060\n",
      "[5400]\t\tT:  0.0668\t\tKL: 0.109\n",
      "[5500]\t\tT:  0.0831\t\tKL: 0.069\n",
      "[5600]\t\tT:  0.112\t\tKL: 0.076\n",
      "[5700]\t\tT:  0.0524\t\tKL: 0.054\n",
      "[5800]\t\tT:  0.0688\t\tKL: 0.050\n",
      "[5900]\t\tT:  0.066\t\tKL: 0.061\n",
      "[6000]\t\tT:  0.0617\t\tKL: 0.033\n",
      "[6100]\t\tT:  0.0564\t\tKL: 0.058\n",
      "[6200]\t\tT:  0.0267\t\tKL: 0.067\n",
      "[6300]\t\tT:  0.0459\t\tKL: 0.064\n",
      "[6400]\t\tT:  0.0244\t\tKL: 0.050\n",
      "[6500]\t\tT:  0.022\t\tKL: 0.050\n",
      "[6600]\t\tT:  0.0111\t\tKL: 0.032\n",
      "[6700]\t\tT:  0.0274\t\tKL: 0.026\n",
      "[6800]\t\tT:  0.0068\t\tKL: 0.014\n",
      "[6900]\t\tT:  0.0156\t\tKL: 0.028\n",
      "[7000]\t\tT:  0.0037\t\tKL: 0.011\n",
      "[7100]\t\tT:  0.00961\t\tKL: -0.008\n",
      "[7200]\t\tT:  -0.00785\t\tKL: -0.008\n",
      "[7300]\t\tT:  -0.0114\t\tKL: -0.012\n",
      "[7400]\t\tT:  -0.00724\t\tKL: -0.025\n",
      "[7500]\t\tT:  -0.0133\t\tKL: 0.000\n",
      "[7600]\t\tT:  -0.021\t\tKL: -0.016\n",
      "[7700]\t\tT:  -0.0265\t\tKL: -0.020\n",
      "[7800]\t\tT:  -0.017\t\tKL: -0.017\n",
      "[7900]\t\tT:  -0.0234\t\tKL: -0.030\n",
      "[8000]\t\tT:  -0.0214\t\tKL: -0.025\n",
      "[8100]\t\tT:  -0.0194\t\tKL: -0.012\n",
      "[8200]\t\tT:  -0.0219\t\tKL: -0.024\n",
      "[8300]\t\tT:  -0.023\t\tKL: -0.013\n",
      "[8400]\t\tT:  -0.00133\t\tKL: -0.022\n",
      "[8500]\t\tT:  -0.00645\t\tKL: -0.012\n",
      "[8600]\t\tT:  -0.00475\t\tKL: -0.004\n",
      "[8700]\t\tT:  -0.00639\t\tKL: -0.001\n",
      "[8800]\t\tT:  -0.00344\t\tKL: -0.002\n",
      "[8900]\t\tT:  -0.00181\t\tKL: 0.005\n",
      "[9000]\t\tT:  0.00467\t\tKL: 0.005\n",
      "[9100]\t\tT:  0.00951\t\tKL: 0.009\n",
      "[9200]\t\tT:  0.0135\t\tKL: 0.010\n",
      "[9300]\t\tT:  0.0142\t\tKL: 0.013\n",
      "[9400]\t\tT:  0.0164\t\tKL: 0.015\n",
      "[9500]\t\tT:  0.0166\t\tKL: 0.017\n",
      "[9600]\t\tT:  0.0142\t\tKL: 0.017\n",
      "[9700]\t\tT:  0.0192\t\tKL: 0.018\n",
      "[9800]\t\tT:  0.0149\t\tKL: 0.015\n",
      "[9900]\t\tT:  0.0106\t\tKL: 0.016\n"
     ]
    },
    {
     "data": {
      "text/plain": [
       "<matplotlib.legend.Legend at 0x7f16337a4190>"
      ]
     },
     "execution_count": 18,
     "metadata": {},
     "output_type": "execute_result"
    },
    {
     "data": {
      "image/png": "[encoded data removed]",
      "text/plain": [
       "<Figure size 432x288 with 1 Axes>"
      ]
     },
     "metadata": {
      "needs_background": "light"
     },
     "output_type": "display_data"
    }
   ],
   "source": [
    "np.random.seed(0)\n",
    "pt.manual_seed(0)\n",
    "\n",
    "training_iters = 10000\n",
    "samples = 1000\n",
    "\n",
    "T = FFNet([3, 100, 1])\n",
    "transform = pt.nn.Linear(3, 3)\n",
    "\n",
    "values = np.zeros(training_iters)\n",
    "kls = np.zeros(training_iters)\n",
    "\n",
    "T_opt = optim.Adam(T.parameters(), lr=0.0001)\n",
    "kl_opt = optim.Adam(transform.parameters(), lr=0.0001)\n",
    "\n",
    "kl_start = compute_kl(transform)\n",
    "\n",
    "for i in range(training_iters):\n",
    "    p = transform(std_mvn.sample((samples,)))\n",
    "    q = target.sample((samples,))\n",
    "    \n",
    "    # Biased loss\n",
    "    T_loss = -(T(p).mean() - pt.log(pt.exp(T(q)).mean()))\n",
    "    \n",
    "    values[i] = (T(p).mean() - pt.log(pt.exp(T(q)).mean())).detach().item()    \n",
    "    \n",
    "    T_opt.zero_grad()\n",
    "    T_loss.backward()\n",
    "    T_opt.step()    \n",
    "        \n",
    "    p = transform(std_mvn.sample((samples,)))\n",
    "    q = target.sample((samples,))\n",
    "    kl_loss = (T(p).mean() - pt.log(pt.exp(T(q)).mean()))\n",
    "\n",
    "    kl_opt.zero_grad()\n",
    "    kl_loss.backward()\n",
    "    kl_opt.step()\n",
    "\n",
    "    kls[i] = kl_loss.detach().item()\n",
    "\n",
    "    if i % 100 == 0:\n",
    "        print(f'[{i}]\\t\\tT:  {values[i]:.3}\\t\\tKL: {kls[i]:.3f}')\n",
    "        \n",
    "kl_end = compute_kl(transform)\n",
    "\n",
    "plt.plot(values, label='T')\n",
    "plt.plot(moving_average(values, 100), label='T (filtered)')\n",
    "plt.plot(kl_start * np.ones(training_iters), label='Original KL')\n",
    "plt.plot(kl_end * np.ones(training_iters), label='Final KL')\n",
    "plt.legend()"
   ]
  },
  {
   "cell_type": "code",
   "execution_count": 13,
   "metadata": {},
   "outputs": [
    {
     "data": {
      "text/plain": [
       "<matplotlib.legend.Legend at 0x7fbf5e2b9e90>"
      ]
     },
     "execution_count": 13,
     "metadata": {},
     "output_type": "execute_result"
    },
    {
     "data": {
      "image/png": "[encoded data removed]",
      "text/plain": [
       "<Figure size 432x288 with 1 Axes>"
      ]
     },
     "metadata": {
      "needs_background": "light"
     },
     "output_type": "display_data"
    }
   ],
   "source": [
    "plt.plot(values, label='T')\n",
    "plt.plot(moving_average(values, 100), label='T (filtered)')\n",
    "plt.plot(kl_start * np.ones(training_iters), label='Original KL')\n",
    "plt.plot(kl_end * np.ones(training_iters), label='Final KL')\n",
    "plt.legend()"
   ]
  },
  {
   "cell_type": "code",
   "execution_count": 98,
   "metadata": {},
   "outputs": [
    {
     "data": {
      "text/plain": [
       "torch.Size([100, 3])"
      ]
     },
     "execution_count": 98,
     "metadata": {},
     "output_type": "execute_result"
    }
   ],
   "source": [
    "T._linears[0].weight.shape"
   ]
  },
  {
   "cell_type": "code",
   "execution_count": 99,
   "metadata": {},
   "outputs": [
    {
     "data": {
      "text/plain": [
       "Parameter containing:\n",
       "tensor([[ 0.0213,  0.0268,  0.0193],\n",
       "        [ 1.6283, -0.1646, -0.3363],\n",
       "        [ 3.2744, -0.3984, -0.8200]], requires_grad=True)"
      ]
     },
     "execution_count": 99,
     "metadata": {},
     "output_type": "execute_result"
    }
   ],
   "source": [
    "transform.weight"
   ]
  },
  {
   "cell_type": "code",
   "execution_count": 40,
   "metadata": {},
   "outputs": [],
   "source": [
    "b = pt.tensor([[3.0]], requires_grad=True)"
   ]
  },
  {
   "cell_type": "code",
   "execution_count": 41,
   "metadata": {},
   "outputs": [],
   "source": [
    "c = f(b)"
   ]
  },
  {
   "cell_type": "code",
   "execution_count": 42,
   "metadata": {},
   "outputs": [],
   "source": [
    "c.backward()"
   ]
  },
  {
   "cell_type": "code",
   "execution_count": 21,
   "metadata": {},
   "outputs": [],
   "source": [
    "a = pt.zeros((2, 3), requires_grad=False)"
   ]
  },
  {
   "cell_type": "code",
   "execution_count": 23,
   "metadata": {},
   "outputs": [],
   "source": [
    "b = pt.rand((3,))"
   ]
  },
  {
   "cell_type": "code",
   "execution_count": 27,
   "metadata": {},
   "outputs": [
    {
     "data": {
      "text/plain": [
       "tensor([0.3274, 0.9157, 0.5253], requires_grad=True)"
      ]
     },
     "execution_count": 27,
     "metadata": {},
     "output_type": "execute_result"
    }
   ],
   "source": [
    "b.requires_grad_(True)"
   ]
  },
  {
   "cell_type": "code",
   "execution_count": 29,
   "metadata": {},
   "outputs": [],
   "source": [
    "a[0, :] = b"
   ]
  },
  {
   "cell_type": "code",
   "execution_count": 30,
   "metadata": {},
   "outputs": [
    {
     "data": {
      "text/plain": [
       "tensor([[0.3274, 0.9157, 0.5253],\n",
       "        [0.0000, 0.0000, 0.0000]], grad_fn=<CopySlices>)"
      ]
     },
     "execution_count": 30,
     "metadata": {},
     "output_type": "execute_result"
    }
   ],
   "source": [
    "a"
   ]
  },
  {
   "cell_type": "code",
   "execution_count": 31,
   "metadata": {},
   "outputs": [],
   "source": [
    "a.sum().backward()"
   ]
  },
  {
   "cell_type": "code",
   "execution_count": 32,
   "metadata": {},
   "outputs": [
    {
     "data": {
      "text/plain": [
       "tensor([1., 1., 1.])"
      ]
     },
     "execution_count": 32,
     "metadata": {},
     "output_type": "execute_result"
    }
   ],
   "source": [
    "b.grad"
   ]
  },
  {
   "cell_type": "code",
   "execution_count": null,
   "metadata": {},
   "outputs": [],
   "source": []
  }
 ],
 "metadata": {
  "kernelspec": {
   "display_name": "Python 3",
   "language": "python",
   "name": "python3"
  },
  "language_info": {
   "codemirror_mode": {
    "name": "ipython",
    "version": 3
   },
   "file_extension": ".py",
   "mimetype": "text/x-python",
   "name": "python",
   "nbconvert_exporter": "python",
   "pygments_lexer": "ipython3",
   "version": "3.7.5"
  }
 },
 "nbformat": 4,
 "nbformat_minor": 2
}
