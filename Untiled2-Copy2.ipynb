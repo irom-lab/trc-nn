{
 "cells": [
  {
   "cell_type": "code",
   "execution_count": 1,
   "metadata": {},
   "outputs": [],
   "source": [
    "import policies\n",
    "import scenarios\n",
    "import torch as pt\n",
    "import numpy as np\n",
    "\n",
    "def sample_initial_dist():\n",
    "    return np.random.uniform(0, 5)\n",
    "\n",
    "def sample_sensor_noise(cov):\n",
    "    return np.random.normal(0, np.sqrt(cov))\n",
    "\n",
    "scenario = scenarios.LavaScenario(sample_initial_dist, lambda: sample_sensor_noise(0.001))"
   ]
  },
  {
   "cell_type": "code",
   "execution_count": 5,
   "metadata": {},
   "outputs": [
    {
     "name": "stdout",
     "output_type": "stream",
     "text": [
      "[0]\t\tAvg. Cost: 2275.997\t\t dt: 0.239\n",
      "[1]\t\tAvg. Cost: 1389.029\t\t dt: 0.249\n",
      "[2]\t\tAvg. Cost: 1211.913\t\t dt: 0.250\n",
      "[3]\t\tAvg. Cost: 1109.571\t\t dt: 0.262\n",
      "[4]\t\tAvg. Cost: 1586.515\t\t dt: 0.253\n",
      "[5]\t\tAvg. Cost: 1130.652\t\t dt: 0.256\n",
      "[6]\t\tAvg. Cost: 1138.720\t\t dt: 0.263\n",
      "[7]\t\tAvg. Cost: 1101.959\t\t dt: 0.263\n",
      "[8]\t\tAvg. Cost: 1354.995\t\t dt: 0.257\n",
      "[9]\t\tAvg. Cost: 1166.507\t\t dt: 0.255\n",
      "[10]\t\tAvg. Cost: 1209.649\t\t dt: 0.255\n",
      "[11]\t\tAvg. Cost: 1160.555\t\t dt: 0.252\n",
      "[12]\t\tAvg. Cost: 1271.183\t\t dt: 0.253\n",
      "[13]\t\tAvg. Cost: 1251.488\t\t dt: 0.266\n",
      "[14]\t\tAvg. Cost: 1165.053\t\t dt: 0.253\n",
      "[15]\t\tAvg. Cost: 1096.608\t\t dt: 0.257\n",
      "[16]\t\tAvg. Cost: 1023.360\t\t dt: 0.249\n",
      "[17]\t\tAvg. Cost: 1062.612\t\t dt: 0.255\n",
      "[18]\t\tAvg. Cost: 1278.644\t\t dt: 0.254\n",
      "[19]\t\tAvg. Cost: 1220.538\t\t dt: 0.250\n",
      "[20]\t\tAvg. Cost: 982.350\t\t dt: 0.245\n",
      "[21]\t\tAvg. Cost: 1099.856\t\t dt: 0.257\n",
      "[22]\t\tAvg. Cost: 1096.772\t\t dt: 0.265\n",
      "[23]\t\tAvg. Cost: 866.852\t\t dt: 0.270\n",
      "[24]\t\tAvg. Cost: 1127.153\t\t dt: 0.254\n",
      "[25]\t\tAvg. Cost: 941.858\t\t dt: 0.254\n",
      "[26]\t\tAvg. Cost: 2062.169\t\t dt: 0.252\n",
      "[27]\t\tAvg. Cost: 1056.132\t\t dt: 0.245\n",
      "[28]\t\tAvg. Cost: 1014.906\t\t dt: 0.247\n",
      "[29]\t\tAvg. Cost: 1121.240\t\t dt: 0.249\n",
      "[30]\t\tAvg. Cost: 999.033\t\t dt: 0.246\n",
      "[31]\t\tAvg. Cost: 955.737\t\t dt: 0.250\n",
      "[32]\t\tAvg. Cost: 936.898\t\t dt: 0.247\n",
      "[33]\t\tAvg. Cost: 1414.508\t\t dt: 0.251\n",
      "[34]\t\tAvg. Cost: 881.444\t\t dt: 0.250\n",
      "[35]\t\tAvg. Cost: 1028.729\t\t dt: 0.252\n",
      "[36]\t\tAvg. Cost: 1232.624\t\t dt: 0.248\n",
      "[37]\t\tAvg. Cost: 1175.398\t\t dt: 0.247\n",
      "[38]\t\tAvg. Cost: 773.254\t\t dt: 0.249\n",
      "[39]\t\tAvg. Cost: 988.430\t\t dt: 0.248\n",
      "[40]\t\tAvg. Cost: 1171.817\t\t dt: 0.251\n",
      "[41]\t\tAvg. Cost: 864.044\t\t dt: 0.251\n",
      "[42]\t\tAvg. Cost: 874.689\t\t dt: 0.252\n",
      "[43]\t\tAvg. Cost: 912.545\t\t dt: 0.246\n",
      "[44]\t\tAvg. Cost: 1087.525\t\t dt: 0.251\n",
      "[45]\t\tAvg. Cost: 1254.212\t\t dt: 0.248\n",
      "[46]\t\tAvg. Cost: 1255.037\t\t dt: 0.248\n",
      "[47]\t\tAvg. Cost: 1504.764\t\t dt: 0.252\n",
      "[48]\t\tAvg. Cost: 1173.823\t\t dt: 0.252\n",
      "[49]\t\tAvg. Cost: 1099.167\t\t dt: 0.253\n",
      "[50]\t\tAvg. Cost: 1090.280\t\t dt: 0.251\n",
      "[51]\t\tAvg. Cost: 1503.036\t\t dt: 0.248\n",
      "[52]\t\tAvg. Cost: 1121.171\t\t dt: 0.248\n",
      "[53]\t\tAvg. Cost: 875.931\t\t dt: 0.251\n",
      "[54]\t\tAvg. Cost: 942.121\t\t dt: 0.252\n",
      "[55]\t\tAvg. Cost: 1315.281\t\t dt: 0.244\n",
      "[56]\t\tAvg. Cost: 872.912\t\t dt: 0.251\n",
      "[57]\t\tAvg. Cost: 1190.901\t\t dt: 0.250\n",
      "[58]\t\tAvg. Cost: 1119.819\t\t dt: 0.246\n",
      "[59]\t\tAvg. Cost: 975.429\t\t dt: 0.264\n",
      "[60]\t\tAvg. Cost: 1476.502\t\t dt: 0.265\n",
      "[61]\t\tAvg. Cost: 952.553\t\t dt: 0.270\n",
      "[62]\t\tAvg. Cost: 994.343\t\t dt: 0.271\n",
      "[63]\t\tAvg. Cost: 1084.817\t\t dt: 0.278\n",
      "[64]\t\tAvg. Cost: 1046.382\t\t dt: 0.247\n",
      "[65]\t\tAvg. Cost: 1272.053\t\t dt: 0.251\n",
      "[66]\t\tAvg. Cost: 991.940\t\t dt: 0.238\n",
      "[67]\t\tAvg. Cost: 974.315\t\t dt: 0.302\n",
      "[68]\t\tAvg. Cost: 1069.781\t\t dt: 0.274\n",
      "[69]\t\tAvg. Cost: 952.843\t\t dt: 0.251\n",
      "[70]\t\tAvg. Cost: 979.517\t\t dt: 0.251\n",
      "[71]\t\tAvg. Cost: 1019.870\t\t dt: 0.248\n",
      "[72]\t\tAvg. Cost: 916.167\t\t dt: 0.252\n",
      "[73]\t\tAvg. Cost: 1068.885\t\t dt: 0.251\n",
      "[74]\t\tAvg. Cost: 836.489\t\t dt: 0.241\n",
      "[75]\t\tAvg. Cost: 922.027\t\t dt: 0.255\n",
      "[76]\t\tAvg. Cost: 677.631\t\t dt: 0.251\n",
      "[77]\t\tAvg. Cost: 964.763\t\t dt: 0.267\n",
      "[78]\t\tAvg. Cost: 1541.816\t\t dt: 0.268\n",
      "[79]\t\tAvg. Cost: 1076.743\t\t dt: 0.255\n",
      "[80]\t\tAvg. Cost: 656.044\t\t dt: 0.249\n",
      "[81]\t\tAvg. Cost: 1094.480\t\t dt: 0.246\n",
      "[82]\t\tAvg. Cost: 990.812\t\t dt: 0.250\n",
      "[83]\t\tAvg. Cost: 868.813\t\t dt: 0.253\n",
      "[84]\t\tAvg. Cost: 754.105\t\t dt: 0.251\n",
      "[85]\t\tAvg. Cost: 1000.457\t\t dt: 0.257\n",
      "[86]\t\tAvg. Cost: 841.200\t\t dt: 0.248\n",
      "[87]\t\tAvg. Cost: 968.506\t\t dt: 0.251\n",
      "[88]\t\tAvg. Cost: 893.636\t\t dt: 0.259\n",
      "[89]\t\tAvg. Cost: 1526.363\t\t dt: 0.251\n",
      "[90]\t\tAvg. Cost: 697.748\t\t dt: 0.258\n",
      "[91]\t\tAvg. Cost: 738.964\t\t dt: 0.257\n",
      "[92]\t\tAvg. Cost: 754.265\t\t dt: 0.249\n",
      "[93]\t\tAvg. Cost: 1337.491\t\t dt: 0.250\n",
      "[94]\t\tAvg. Cost: 1346.780\t\t dt: 0.252\n",
      "[95]\t\tAvg. Cost: 1049.936\t\t dt: 0.250\n",
      "[96]\t\tAvg. Cost: 1295.608\t\t dt: 0.247\n",
      "[97]\t\tAvg. Cost: 1075.438\t\t dt: 0.251\n",
      "[98]\t\tAvg. Cost: 788.439\t\t dt: 0.251\n",
      "[99]\t\tAvg. Cost: 1044.305\t\t dt: 0.247\n",
      "[100]\t\tAvg. Cost: 956.554\t\t dt: 0.250\n",
      "[101]\t\tAvg. Cost: 1084.694\t\t dt: 0.252\n",
      "[102]\t\tAvg. Cost: 794.522\t\t dt: 0.252\n",
      "[103]\t\tAvg. Cost: 1143.830\t\t dt: 0.252\n",
      "[104]\t\tAvg. Cost: 1233.276\t\t dt: 0.248\n",
      "[105]\t\tAvg. Cost: 954.110\t\t dt: 0.249\n",
      "[106]\t\tAvg. Cost: 910.972\t\t dt: 0.252\n",
      "[107]\t\tAvg. Cost: 1257.249\t\t dt: 0.252\n",
      "[108]\t\tAvg. Cost: 880.182\t\t dt: 0.252\n",
      "[109]\t\tAvg. Cost: 1184.098\t\t dt: 0.253\n",
      "[110]\t\tAvg. Cost: 1046.469\t\t dt: 0.253\n",
      "[111]\t\tAvg. Cost: 1216.389\t\t dt: 0.253\n",
      "[112]\t\tAvg. Cost: 816.366\t\t dt: 0.250\n",
      "[113]\t\tAvg. Cost: 870.978\t\t dt: 0.253\n",
      "[114]\t\tAvg. Cost: 834.521\t\t dt: 0.253\n",
      "[115]\t\tAvg. Cost: 962.525\t\t dt: 0.253\n",
      "[116]\t\tAvg. Cost: 1077.215\t\t dt: 0.252\n",
      "[117]\t\tAvg. Cost: 1578.659\t\t dt: 0.252\n",
      "[118]\t\tAvg. Cost: 819.211\t\t dt: 0.249\n",
      "[119]\t\tAvg. Cost: 1219.510\t\t dt: 0.248\n",
      "[120]\t\tAvg. Cost: 828.028\t\t dt: 0.251\n",
      "[121]\t\tAvg. Cost: 770.873\t\t dt: 0.242\n",
      "[122]\t\tAvg. Cost: 725.802\t\t dt: 0.246\n",
      "[123]\t\tAvg. Cost: 1597.672\t\t dt: 0.251\n",
      "[124]\t\tAvg. Cost: 839.099\t\t dt: 0.251\n",
      "[125]\t\tAvg. Cost: 1176.156\t\t dt: 0.245\n",
      "[126]\t\tAvg. Cost: 756.371\t\t dt: 0.249\n",
      "[127]\t\tAvg. Cost: 1398.046\t\t dt: 0.246\n",
      "[128]\t\tAvg. Cost: 948.660\t\t dt: 0.251\n",
      "[129]\t\tAvg. Cost: 969.167\t\t dt: 0.247\n",
      "[130]\t\tAvg. Cost: 950.125\t\t dt: 0.256\n",
      "[131]\t\tAvg. Cost: 892.036\t\t dt: 0.260\n",
      "[132]\t\tAvg. Cost: 767.943\t\t dt: 0.260\n",
      "[133]\t\tAvg. Cost: 884.050\t\t dt: 0.251\n",
      "[134]\t\tAvg. Cost: 992.029\t\t dt: 0.254\n",
      "[135]\t\tAvg. Cost: 916.354\t\t dt: 0.248\n",
      "[136]\t\tAvg. Cost: 1404.826\t\t dt: 0.247\n",
      "[137]\t\tAvg. Cost: 849.586\t\t dt: 0.253\n",
      "[138]\t\tAvg. Cost: 1314.482\t\t dt: 0.255\n",
      "[139]\t\tAvg. Cost: 762.979\t\t dt: 0.252\n",
      "[140]\t\tAvg. Cost: 940.994\t\t dt: 0.248\n",
      "[141]\t\tAvg. Cost: 746.509\t\t dt: 0.254\n",
      "[142]\t\tAvg. Cost: 938.012\t\t dt: 0.253\n",
      "[143]\t\tAvg. Cost: 1020.449\t\t dt: 0.252\n",
      "[144]\t\tAvg. Cost: 799.430\t\t dt: 0.251\n",
      "[145]\t\tAvg. Cost: 965.148\t\t dt: 0.253\n",
      "[146]\t\tAvg. Cost: 985.863\t\t dt: 0.242\n",
      "[147]\t\tAvg. Cost: 941.306\t\t dt: 0.254\n",
      "[148]\t\tAvg. Cost: 1314.526\t\t dt: 0.252\n",
      "[149]\t\tAvg. Cost: 1217.647\t\t dt: 0.254\n",
      "[150]\t\tAvg. Cost: 1088.725\t\t dt: 0.251\n",
      "[151]\t\tAvg. Cost: 944.343\t\t dt: 0.249\n",
      "[152]\t\tAvg. Cost: 1377.099\t\t dt: 0.246\n",
      "[153]\t\tAvg. Cost: 849.853\t\t dt: 0.253\n",
      "[154]\t\tAvg. Cost: 850.081\t\t dt: 0.253\n",
      "[155]\t\tAvg. Cost: 980.327\t\t dt: 0.256\n",
      "[156]\t\tAvg. Cost: 1101.272\t\t dt: 0.259\n",
      "[157]\t\tAvg. Cost: 1074.864\t\t dt: 0.257\n",
      "[158]\t\tAvg. Cost: 906.783\t\t dt: 0.271\n",
      "[159]\t\tAvg. Cost: 864.252\t\t dt: 0.265\n",
      "[160]\t\tAvg. Cost: 1171.457\t\t dt: 0.252\n",
      "[161]\t\tAvg. Cost: 980.449\t\t dt: 0.256\n",
      "[162]\t\tAvg. Cost: 944.959\t\t dt: 0.245\n",
      "[163]\t\tAvg. Cost: 1218.477\t\t dt: 0.251\n",
      "[164]\t\tAvg. Cost: 1214.833\t\t dt: 0.249\n",
      "[165]\t\tAvg. Cost: 1065.166\t\t dt: 0.244\n",
      "[166]\t\tAvg. Cost: 962.622\t\t dt: 0.246\n",
      "[167]\t\tAvg. Cost: 870.731\t\t dt: 0.250\n",
      "[168]\t\tAvg. Cost: 1112.859\t\t dt: 0.256\n",
      "[169]\t\tAvg. Cost: 785.711\t\t dt: 0.259\n",
      "[170]\t\tAvg. Cost: 1183.888\t\t dt: 0.258\n",
      "[171]\t\tAvg. Cost: 820.185\t\t dt: 0.264\n",
      "[172]\t\tAvg. Cost: 1025.693\t\t dt: 0.262\n",
      "[173]\t\tAvg. Cost: 789.663\t\t dt: 0.246\n",
      "[174]\t\tAvg. Cost: 1144.730\t\t dt: 0.244\n",
      "[175]\t\tAvg. Cost: 1017.258\t\t dt: 0.250\n",
      "[176]\t\tAvg. Cost: 698.968\t\t dt: 0.252\n",
      "[177]\t\tAvg. Cost: 804.336\t\t dt: 0.247\n",
      "[178]\t\tAvg. Cost: 877.742\t\t dt: 0.243\n",
      "[179]\t\tAvg. Cost: 1216.494\t\t dt: 0.247\n",
      "[180]\t\tAvg. Cost: 1038.752\t\t dt: 0.245\n",
      "[181]\t\tAvg. Cost: 560.777\t\t dt: 0.212\n",
      "[182]\t\tAvg. Cost: 1059.908\t\t dt: 0.210\n",
      "[183]\t\tAvg. Cost: 1099.394\t\t dt: 0.209\n",
      "[184]\t\tAvg. Cost: 977.481\t\t dt: 0.210\n",
      "[185]\t\tAvg. Cost: 1009.949\t\t dt: 0.211\n",
      "[186]\t\tAvg. Cost: 1191.202\t\t dt: 0.208\n",
      "[187]\t\tAvg. Cost: 832.050\t\t dt: 0.208\n",
      "[188]\t\tAvg. Cost: 909.146\t\t dt: 0.210\n",
      "[189]\t\tAvg. Cost: 848.603\t\t dt: 0.213\n",
      "[190]\t\tAvg. Cost: 1175.315\t\t dt: 0.213\n",
      "[191]\t\tAvg. Cost: 1074.802\t\t dt: 0.213\n",
      "[192]\t\tAvg. Cost: 854.154\t\t dt: 0.209\n",
      "[193]\t\tAvg. Cost: 1138.666\t\t dt: 0.208\n",
      "[194]\t\tAvg. Cost: 1150.684\t\t dt: 0.208\n",
      "[195]\t\tAvg. Cost: 980.715\t\t dt: 0.208\n",
      "[196]\t\tAvg. Cost: 1176.287\t\t dt: 0.211\n",
      "[197]\t\tAvg. Cost: 776.128\t\t dt: 0.213\n",
      "[198]\t\tAvg. Cost: 882.497\t\t dt: 0.209\n",
      "[199]\t\tAvg. Cost: 837.679\t\t dt: 0.210\n"
     ]
    }
   ],
   "source": [
    "np.random.seed(0)\n",
    "pt.manual_seed(0)\n",
    "\n",
    "policy = policies.PGPolicy(scenario, 5, 50, [64, 64], 0.1 * np.eye(scenario.ninputs))\n",
    "policy.train(training_iterations=200, lr=0.001)\n",
    "\n",
    "#ntrvs = 5\n",
    "\n",
    "#policy = policies.MINEPolicy(scenario, 5, 500, ntrvs, [256], 0.1 * np.eye(ntrvs), [256], 0.1 * np.eye(scenario.ninputs), 1, {'hidden_size' : 100})\n",
    "#policy.train(nsamples=1000, training_iterations=500, qlr=0.001, pilr=0.001)"
   ]
  },
  {
   "cell_type": "code",
   "execution_count": 19,
   "metadata": {},
   "outputs": [
    {
     "data": {
      "text/plain": [
       "2803.014404296875"
      ]
     },
     "execution_count": 19,
     "metadata": {},
     "output_type": "execute_result"
    }
   ],
   "source": [
    "def test_sample_initial_dist():\n",
    "    return np.random.normal(2.5, 0.1)\n",
    "\n",
    "def test_sample_sensor_noise(cov):\n",
    "    return np.random.normal(0, np.sqrt(cov))\n",
    "\n",
    "test_scenario = scenarios.LavaScenario(test_sample_initial_dist, lambda: test_sample_sensor_noise(1))\n",
    "\n",
    "policy._scenario = test_scenario\n",
    "\n",
    "policy.rollout(500)\n",
    "policy._costs.sum(axis=0).mean().item()"
   ]
  },
  {
   "cell_type": "code",
   "execution_count": 17,
   "metadata": {},
   "outputs": [
    {
     "data": {
      "text/plain": [
       "2940.4482421875"
      ]
     },
     "execution_count": 17,
     "metadata": {},
     "output_type": "execute_result"
    }
   ],
   "source": [
    "def test_sample_initial_dist():\n",
    "    return np.random.uniform(3, 5)\n",
    "\n",
    "def test_sample_sensor_noise(cov):\n",
    "    return np.random.normal(0, np.sqrt(cov))\n",
    "\n",
    "test_scenario = scenarios.LavaScenario(test_sample_initial_dist, lambda: test_sample_sensor_noise(1))\n",
    "\n",
    "policy._scenario = test_scenario\n",
    "\n",
    "policy.rollout(500)\n",
    "policy._costs.sum(axis=0).mean().item()"
   ]
  },
  {
   "cell_type": "code",
   "execution_count": null,
   "metadata": {},
   "outputs": [],
   "source": [
    "q(pt.tensor([2.6891, 0.0127]))"
   ]
  },
  {
   "cell_type": "code",
   "execution_count": null,
   "metadata": {},
   "outputs": [],
   "source": [
    "q._linears"
   ]
  },
  {
   "cell_type": "code",
   "execution_count": null,
   "metadata": {},
   "outputs": [],
   "source": [
    "a.requires_grad"
   ]
  },
  {
   "cell_type": "code",
   "execution_count": null,
   "metadata": {},
   "outputs": [],
   "source": [
    "b = pt.rand((3, 2))\n",
    "a[:, 1, :] = b"
   ]
  },
  {
   "cell_type": "code",
   "execution_count": null,
   "metadata": {},
   "outputs": [],
   "source": [
    "a[:, 1, :]"
   ]
  },
  {
   "cell_type": "code",
   "execution_count": null,
   "metadata": {},
   "outputs": [],
   "source": [
    "pt.diag(pt.tensor([1, 2, 3]))"
   ]
  },
  {
   "cell_type": "code",
   "execution_count": null,
   "metadata": {},
   "outputs": [],
   "source": [
    "policy._states[:, 0, :]"
   ]
  },
  {
   "cell_type": "code",
   "execution_count": null,
   "metadata": {},
   "outputs": [],
   "source": [
    "a = pt.zeros(3)"
   ]
  },
  {
   "cell_type": "code",
   "execution_count": null,
   "metadata": {},
   "outputs": [],
   "source": [
    "b = a"
   ]
  },
  {
   "cell_type": "code",
   "execution_count": null,
   "metadata": {},
   "outputs": [],
   "source": [
    "c"
   ]
  },
  {
   "cell_type": "code",
   "execution_count": null,
   "metadata": {},
   "outputs": [],
   "source": [
    "d = c.detach()"
   ]
  },
  {
   "cell_type": "code",
   "execution_count": null,
   "metadata": {},
   "outputs": [],
   "source": [
    "c"
   ]
  },
  {
   "cell_type": "code",
   "execution_count": null,
   "metadata": {},
   "outputs": [],
   "source": [
    "d"
   ]
  },
  {
   "cell_type": "code",
   "execution_count": null,
   "metadata": {},
   "outputs": [],
   "source": [
    "a = pt.rand(3).reshape((1, -1))"
   ]
  },
  {
   "cell_type": "code",
   "execution_count": null,
   "metadata": {},
   "outputs": [],
   "source": [
    "b = pt.rand(3).reshape((1, -1))"
   ]
  },
  {
   "cell_type": "code",
   "execution_count": null,
   "metadata": {},
   "outputs": [],
   "source": [
    "pt.cat([a,b], 0)"
   ]
  },
  {
   "cell_type": "code",
   "execution_count": 4,
   "metadata": {},
   "outputs": [],
   "source": [
    "a = pt.rand((3, 4))\n",
    "b = pt.rand((3, 4))"
   ]
  },
  {
   "cell_type": "code",
   "execution_count": 7,
   "metadata": {},
   "outputs": [
    {
     "data": {
      "text/plain": [
       "tensor([[[0.1152, 0.3045, 0.9668, 0.4757],\n",
       "         [0.6554, 0.3896, 0.2972, 0.3970],\n",
       "         [0.0423, 0.3608, 0.8001, 0.5006]],\n",
       "\n",
       "        [[0.4656, 0.6131, 0.2341, 0.9669],\n",
       "         [0.3903, 0.8170, 0.1489, 0.8647],\n",
       "         [0.4264, 0.4787, 0.3217, 0.6330]]])"
      ]
     },
     "execution_count": 7,
     "metadata": {},
     "output_type": "execute_result"
    }
   ],
   "source": [
    "pt.stack([a, b], axis=0)"
   ]
  },
  {
   "cell_type": "code",
   "execution_count": null,
   "metadata": {},
   "outputs": [],
   "source": []
  }
 ],
 "metadata": {
  "kernelspec": {
   "display_name": "Python 3",
   "language": "python",
   "name": "python3"
  }
 },
 "nbformat": 4,
 "nbformat_minor": 2
}
