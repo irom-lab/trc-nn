{
 "cells": [
  {
   "cell_type": "code",
   "execution_count": 11,
   "metadata": {},
   "outputs": [],
   "source": [
    "import policies\n",
    "import scenarios\n",
    "import torch as pt\n",
    "import numpy as np\n",
    "\n",
    "def sample_initial_dist():\n",
    "    return np.random.uniform(0, 5)\n",
    "\n",
    "def sample_sensor_noise(cov):\n",
    "    return np.random.normal(0, np.sqrt(cov))\n",
    "\n",
    "scenario = scenarios.LavaScenario(sample_initial_dist, lambda: sample_sensor_noise(0.001))"
   ]
  },
  {
   "cell_type": "code",
   "execution_count": 12,
   "metadata": {},
   "outputs": [
    {
     "name": "stdout",
     "output_type": "stream",
     "text": [
      "[0]\t\tAvg. Cost: 4668.09716796875\n",
      "[1]\t\tAvg. Cost: 2558.806640625\n",
      "[2]\t\tAvg. Cost: 2099.196533203125\n",
      "[3]\t\tAvg. Cost: 1798.8189697265625\n",
      "[4]\t\tAvg. Cost: 1806.944580078125\n",
      "[5]\t\tAvg. Cost: 1752.8778076171875\n",
      "[6]\t\tAvg. Cost: 1747.25390625\n",
      "[7]\t\tAvg. Cost: 1796.85400390625\n",
      "[8]\t\tAvg. Cost: 1808.791259765625\n",
      "[9]\t\tAvg. Cost: 1802.895263671875\n",
      "[10]\t\tAvg. Cost: 1793.7315673828125\n",
      "[11]\t\tAvg. Cost: 1820.36474609375\n",
      "[12]\t\tAvg. Cost: 1787.7598876953125\n",
      "[13]\t\tAvg. Cost: 1807.3935546875\n",
      "[14]\t\tAvg. Cost: 1834.0867919921875\n",
      "[15]\t\tAvg. Cost: 1795.5860595703125\n",
      "[16]\t\tAvg. Cost: 1814.1029052734375\n",
      "[17]\t\tAvg. Cost: 1801.482177734375\n",
      "[18]\t\tAvg. Cost: 1792.212890625\n",
      "[19]\t\tAvg. Cost: 1783.2108154296875\n",
      "[20]\t\tAvg. Cost: 1775.3057861328125\n",
      "[21]\t\tAvg. Cost: 1768.3111572265625\n",
      "[22]\t\tAvg. Cost: 1758.1470947265625\n",
      "[23]\t\tAvg. Cost: 1760.450439453125\n",
      "[24]\t\tAvg. Cost: 1748.1412353515625\n",
      "[25]\t\tAvg. Cost: 1715.6619873046875\n",
      "[26]\t\tAvg. Cost: 1669.26611328125\n",
      "[27]\t\tAvg. Cost: 1630.8140869140625\n",
      "[28]\t\tAvg. Cost: 1605.505126953125\n",
      "[29]\t\tAvg. Cost: 1578.8267822265625\n",
      "[30]\t\tAvg. Cost: 1513.242919921875\n",
      "[31]\t\tAvg. Cost: 1451.1939697265625\n",
      "[32]\t\tAvg. Cost: 1390.620849609375\n",
      "[33]\t\tAvg. Cost: 1251.72412109375\n",
      "[34]\t\tAvg. Cost: 1196.3387451171875\n",
      "[35]\t\tAvg. Cost: 1050.02880859375\n",
      "[36]\t\tAvg. Cost: 1159.4298095703125\n",
      "[37]\t\tAvg. Cost: 1278.97216796875\n",
      "[38]\t\tAvg. Cost: 1235.3701171875\n",
      "[39]\t\tAvg. Cost: 1296.0968017578125\n",
      "[40]\t\tAvg. Cost: 1269.1871337890625\n",
      "[41]\t\tAvg. Cost: 1067.0980224609375\n",
      "[42]\t\tAvg. Cost: 1138.163818359375\n",
      "[43]\t\tAvg. Cost: 1227.4022216796875\n",
      "[44]\t\tAvg. Cost: 1178.13818359375\n",
      "[45]\t\tAvg. Cost: 1230.3001708984375\n",
      "[46]\t\tAvg. Cost: 1180.417724609375\n",
      "[47]\t\tAvg. Cost: 1093.334228515625\n",
      "[48]\t\tAvg. Cost: 1149.6541748046875\n",
      "[49]\t\tAvg. Cost: 1173.2308349609375\n",
      "[50]\t\tAvg. Cost: 1026.1064453125\n",
      "[51]\t\tAvg. Cost: 1312.4288330078125\n",
      "[52]\t\tAvg. Cost: 962.2351684570312\n",
      "[53]\t\tAvg. Cost: 1023.8007202148438\n",
      "[54]\t\tAvg. Cost: 1078.3564453125\n",
      "[55]\t\tAvg. Cost: 1030.9041748046875\n",
      "[56]\t\tAvg. Cost: 1029.5504150390625\n",
      "[57]\t\tAvg. Cost: 1016.3894653320312\n",
      "[58]\t\tAvg. Cost: 1084.4534912109375\n",
      "[59]\t\tAvg. Cost: 940.9382934570312\n",
      "[60]\t\tAvg. Cost: 1099.0238037109375\n",
      "[61]\t\tAvg. Cost: 1003.1378784179688\n",
      "[62]\t\tAvg. Cost: 974.9757080078125\n",
      "[63]\t\tAvg. Cost: 952.9307861328125\n",
      "[64]\t\tAvg. Cost: 1144.6661376953125\n",
      "[65]\t\tAvg. Cost: 925.8692626953125\n",
      "[66]\t\tAvg. Cost: 1027.3553466796875\n",
      "[67]\t\tAvg. Cost: 947.8114013671875\n",
      "[68]\t\tAvg. Cost: 1067.1343994140625\n",
      "[69]\t\tAvg. Cost: 989.4692993164062\n",
      "[70]\t\tAvg. Cost: 1086.5469970703125\n",
      "[71]\t\tAvg. Cost: 1069.378662109375\n",
      "[72]\t\tAvg. Cost: 1009.4584350585938\n",
      "[73]\t\tAvg. Cost: 1009.6156005859375\n",
      "[74]\t\tAvg. Cost: 936.6102905273438\n",
      "[75]\t\tAvg. Cost: 924.4098510742188\n",
      "[76]\t\tAvg. Cost: 944.7589721679688\n",
      "[77]\t\tAvg. Cost: 962.7205810546875\n",
      "[78]\t\tAvg. Cost: 1146.465576171875\n",
      "[79]\t\tAvg. Cost: 994.7571411132812\n",
      "[80]\t\tAvg. Cost: 1147.0855712890625\n",
      "[81]\t\tAvg. Cost: 1082.235107421875\n",
      "[82]\t\tAvg. Cost: 980.5844116210938\n",
      "[83]\t\tAvg. Cost: 982.8469848632812\n",
      "[84]\t\tAvg. Cost: 1011.7794189453125\n",
      "[85]\t\tAvg. Cost: 1073.4168701171875\n",
      "[86]\t\tAvg. Cost: 942.8472900390625\n",
      "[87]\t\tAvg. Cost: 1059.63134765625\n",
      "[88]\t\tAvg. Cost: 976.010498046875\n",
      "[89]\t\tAvg. Cost: 965.5282592773438\n",
      "[90]\t\tAvg. Cost: 866.1821899414062\n",
      "[91]\t\tAvg. Cost: 864.0349731445312\n",
      "[92]\t\tAvg. Cost: 909.6856079101562\n",
      "[93]\t\tAvg. Cost: 925.8804321289062\n",
      "[94]\t\tAvg. Cost: 983.8695678710938\n",
      "[95]\t\tAvg. Cost: 906.6228637695312\n",
      "[96]\t\tAvg. Cost: 952.435302734375\n",
      "[97]\t\tAvg. Cost: 881.8921508789062\n",
      "[98]\t\tAvg. Cost: 1010.843994140625\n",
      "[99]\t\tAvg. Cost: 919.89892578125\n",
      "[100]\t\tAvg. Cost: 878.1187744140625\n",
      "[101]\t\tAvg. Cost: 956.0660400390625\n",
      "[102]\t\tAvg. Cost: 840.91552734375\n",
      "[103]\t\tAvg. Cost: 940.8607788085938\n",
      "[104]\t\tAvg. Cost: 937.6256103515625\n",
      "[105]\t\tAvg. Cost: 1031.54052734375\n",
      "[106]\t\tAvg. Cost: 867.6839599609375\n",
      "[107]\t\tAvg. Cost: 985.7105712890625\n",
      "[108]\t\tAvg. Cost: 978.26611328125\n",
      "[109]\t\tAvg. Cost: 955.8353271484375\n",
      "[110]\t\tAvg. Cost: 950.3334350585938\n",
      "[111]\t\tAvg. Cost: 902.0743408203125\n",
      "[112]\t\tAvg. Cost: 885.2210083007812\n",
      "[113]\t\tAvg. Cost: 826.7049560546875\n",
      "[114]\t\tAvg. Cost: 794.6826171875\n",
      "[115]\t\tAvg. Cost: 865.3579711914062\n",
      "[116]\t\tAvg. Cost: 850.3860473632812\n",
      "[117]\t\tAvg. Cost: 949.025146484375\n",
      "[118]\t\tAvg. Cost: 858.7169189453125\n",
      "[119]\t\tAvg. Cost: 904.58642578125\n",
      "[120]\t\tAvg. Cost: 822.0210571289062\n",
      "[121]\t\tAvg. Cost: 882.0064697265625\n",
      "[122]\t\tAvg. Cost: 925.075439453125\n",
      "[123]\t\tAvg. Cost: 851.9646606445312\n",
      "[124]\t\tAvg. Cost: 893.7890014648438\n",
      "[125]\t\tAvg. Cost: 763.29638671875\n",
      "[126]\t\tAvg. Cost: 871.7032470703125\n",
      "[127]\t\tAvg. Cost: 927.3361206054688\n",
      "[128]\t\tAvg. Cost: 827.4567260742188\n",
      "[129]\t\tAvg. Cost: 778.2351684570312\n",
      "[130]\t\tAvg. Cost: 867.1201782226562\n",
      "[131]\t\tAvg. Cost: 847.9439697265625\n",
      "[132]\t\tAvg. Cost: 858.8929443359375\n",
      "[133]\t\tAvg. Cost: 743.718994140625\n",
      "[134]\t\tAvg. Cost: 751.1051635742188\n",
      "[135]\t\tAvg. Cost: 933.7255249023438\n",
      "[136]\t\tAvg. Cost: 883.4911499023438\n",
      "[137]\t\tAvg. Cost: 734.9094848632812\n",
      "[138]\t\tAvg. Cost: 787.0430297851562\n",
      "[139]\t\tAvg. Cost: 885.1720581054688\n",
      "[140]\t\tAvg. Cost: 821.247314453125\n",
      "[141]\t\tAvg. Cost: 881.3077392578125\n",
      "[142]\t\tAvg. Cost: 823.395751953125\n",
      "[143]\t\tAvg. Cost: 795.622802734375\n",
      "[144]\t\tAvg. Cost: 788.3931274414062\n",
      "[145]\t\tAvg. Cost: 847.3197021484375\n",
      "[146]\t\tAvg. Cost: 887.8524169921875\n",
      "[147]\t\tAvg. Cost: 796.7197265625\n",
      "[148]\t\tAvg. Cost: 815.86865234375\n",
      "[149]\t\tAvg. Cost: 723.2506713867188\n",
      "[150]\t\tAvg. Cost: 814.5839233398438\n",
      "[151]\t\tAvg. Cost: 827.543701171875\n",
      "[152]\t\tAvg. Cost: 774.8549194335938\n",
      "[153]\t\tAvg. Cost: 731.4684448242188\n",
      "[154]\t\tAvg. Cost: 827.8784790039062\n",
      "[155]\t\tAvg. Cost: 792.2698974609375\n",
      "[156]\t\tAvg. Cost: 794.9405517578125\n",
      "[157]\t\tAvg. Cost: 860.1775512695312\n",
      "[158]\t\tAvg. Cost: 777.87646484375\n",
      "[159]\t\tAvg. Cost: 728.5952758789062\n",
      "[160]\t\tAvg. Cost: 763.7302856445312\n",
      "[161]\t\tAvg. Cost: 858.489013671875\n",
      "[162]\t\tAvg. Cost: 856.7665405273438\n",
      "[163]\t\tAvg. Cost: 872.9744262695312\n",
      "[164]\t\tAvg. Cost: 813.76513671875\n",
      "[165]\t\tAvg. Cost: 869.5165405273438\n",
      "[166]\t\tAvg. Cost: 831.7249755859375\n",
      "[167]\t\tAvg. Cost: 888.919921875\n",
      "[168]\t\tAvg. Cost: 842.992919921875\n",
      "[169]\t\tAvg. Cost: 762.181640625\n",
      "[170]\t\tAvg. Cost: 752.0016479492188\n",
      "[171]\t\tAvg. Cost: 861.649169921875\n",
      "[172]\t\tAvg. Cost: 737.5399780273438\n",
      "[173]\t\tAvg. Cost: 743.1810302734375\n",
      "[174]\t\tAvg. Cost: 793.0543823242188\n",
      "[175]\t\tAvg. Cost: 681.2462768554688\n",
      "[176]\t\tAvg. Cost: 835.008056640625\n",
      "[177]\t\tAvg. Cost: 735.2731323242188\n",
      "[178]\t\tAvg. Cost: 724.7437133789062\n",
      "[179]\t\tAvg. Cost: 724.39794921875\n",
      "[180]\t\tAvg. Cost: 762.6343994140625\n",
      "[181]\t\tAvg. Cost: 867.7142944335938\n",
      "[182]\t\tAvg. Cost: 898.636962890625\n",
      "[183]\t\tAvg. Cost: 799.1154174804688\n",
      "[184]\t\tAvg. Cost: 764.7709350585938\n",
      "[185]\t\tAvg. Cost: 705.6517333984375\n",
      "[186]\t\tAvg. Cost: 681.7109985351562\n",
      "[187]\t\tAvg. Cost: 742.95458984375\n",
      "[188]\t\tAvg. Cost: 733.6380004882812\n",
      "[189]\t\tAvg. Cost: 636.3974609375\n",
      "[190]\t\tAvg. Cost: 692.4749755859375\n",
      "[191]\t\tAvg. Cost: 739.6654052734375\n",
      "[192]\t\tAvg. Cost: 795.4814453125\n",
      "[193]\t\tAvg. Cost: 781.3988037109375\n",
      "[194]\t\tAvg. Cost: 740.1345825195312\n",
      "[195]\t\tAvg. Cost: 761.8041381835938\n",
      "[196]\t\tAvg. Cost: 746.48095703125\n",
      "[197]\t\tAvg. Cost: 725.5240478515625\n",
      "[198]\t\tAvg. Cost: 704.449462890625\n",
      "[199]\t\tAvg. Cost: 766.187255859375\n"
     ]
    }
   ],
   "source": [
    "np.random.seed(0)\n",
    "pt.manual_seed(0)\n",
    "\n",
    "policy = policies.PGPolicy(scenario, 5, 500, [256, 256], 0.1 * np.eye(scenario.ninputs))\n",
    "policy.train(training_iterations=200, lr=0.001)\n",
    "\n",
    "#ntrvs = 5\n",
    "\n",
    "#policy = policies.MINEPolicy(scenario, 5, 500, ntrvs, [256], 0.1 * np.eye(ntrvs), [256], 0.1 * np.eye(scenario.ninputs), 1, {'hidden_size' : 100})\n",
    "#policy.train(nsamples=1000, training_iterations=500, qlr=0.001, pilr=0.001)"
   ]
  },
  {
   "cell_type": "code",
   "execution_count": 13,
   "metadata": {},
   "outputs": [
    {
     "data": {
      "text/plain": [
       "2840.45654296875"
      ]
     },
     "execution_count": 13,
     "metadata": {},
     "output_type": "execute_result"
    }
   ],
   "source": [
    "def test_sample_initial_dist():\n",
    "    return np.random.normal(2.5, 0.1)\n",
    "\n",
    "def test_sample_sensor_noise(cov):\n",
    "    return np.random.normal(0, np.sqrt(cov))\n",
    "\n",
    "test_scenario = scenarios.LavaScenario(test_sample_initial_dist, lambda: test_sample_sensor_noise(1))\n",
    "\n",
    "policy._scenario = test_scenario\n",
    "\n",
    "policy.rollout(500)\n",
    "policy._costs.sum(axis=0).mean().item()"
   ]
  },
  {
   "cell_type": "code",
   "execution_count": 17,
   "metadata": {},
   "outputs": [
    {
     "data": {
      "text/plain": [
       "2940.4482421875"
      ]
     },
     "execution_count": 17,
     "metadata": {},
     "output_type": "execute_result"
    }
   ],
   "source": [
    "def test_sample_initial_dist():\n",
    "    return np.random.uniform(3, 5)\n",
    "\n",
    "def test_sample_sensor_noise(cov):\n",
    "    return np.random.normal(0, np.sqrt(cov))\n",
    "\n",
    "test_scenario = scenarios.LavaScenario(test_sample_initial_dist, lambda: test_sample_sensor_noise(1))\n",
    "\n",
    "policy._scenario = test_scenario\n",
    "\n",
    "policy.rollout(500)\n",
    "policy._costs.sum(axis=0).mean().item()"
   ]
  },
  {
   "cell_type": "code",
   "execution_count": null,
   "metadata": {},
   "outputs": [],
   "source": [
    "q(pt.tensor([2.6891, 0.0127]))"
   ]
  },
  {
   "cell_type": "code",
   "execution_count": null,
   "metadata": {},
   "outputs": [],
   "source": [
    "q._linears"
   ]
  },
  {
   "cell_type": "code",
   "execution_count": null,
   "metadata": {},
   "outputs": [],
   "source": [
    "a.requires_grad"
   ]
  },
  {
   "cell_type": "code",
   "execution_count": null,
   "metadata": {},
   "outputs": [],
   "source": [
    "b = pt.rand((3, 2))\n",
    "a[:, 1, :] = b"
   ]
  },
  {
   "cell_type": "code",
   "execution_count": null,
   "metadata": {},
   "outputs": [],
   "source": [
    "a[:, 1, :]"
   ]
  },
  {
   "cell_type": "code",
   "execution_count": null,
   "metadata": {},
   "outputs": [],
   "source": [
    "pt.diag(pt.tensor([1, 2, 3]))"
   ]
  },
  {
   "cell_type": "code",
   "execution_count": null,
   "metadata": {},
   "outputs": [],
   "source": [
    "policy._states[:, 0, :]"
   ]
  },
  {
   "cell_type": "code",
   "execution_count": null,
   "metadata": {},
   "outputs": [],
   "source": [
    "a = pt.zeros(3)"
   ]
  },
  {
   "cell_type": "code",
   "execution_count": null,
   "metadata": {},
   "outputs": [],
   "source": [
    "b = a"
   ]
  },
  {
   "cell_type": "code",
   "execution_count": null,
   "metadata": {},
   "outputs": [],
   "source": [
    "c"
   ]
  },
  {
   "cell_type": "code",
   "execution_count": null,
   "metadata": {},
   "outputs": [],
   "source": [
    "d = c.detach()"
   ]
  },
  {
   "cell_type": "code",
   "execution_count": null,
   "metadata": {},
   "outputs": [],
   "source": [
    "c"
   ]
  },
  {
   "cell_type": "code",
   "execution_count": null,
   "metadata": {},
   "outputs": [],
   "source": [
    "d"
   ]
  },
  {
   "cell_type": "code",
   "execution_count": null,
   "metadata": {},
   "outputs": [],
   "source": [
    "a = pt.rand(3).reshape((1, -1))"
   ]
  },
  {
   "cell_type": "code",
   "execution_count": null,
   "metadata": {},
   "outputs": [],
   "source": [
    "b = pt.rand(3).reshape((1, -1))"
   ]
  },
  {
   "cell_type": "code",
   "execution_count": null,
   "metadata": {},
   "outputs": [],
   "source": [
    "pt.cat([a,b], 0)"
   ]
  },
  {
   "cell_type": "code",
   "execution_count": 4,
   "metadata": {},
   "outputs": [],
   "source": [
    "a = pt.rand((3, 4))\n",
    "b = pt.rand((3, 4))"
   ]
  },
  {
   "cell_type": "code",
   "execution_count": 7,
   "metadata": {},
   "outputs": [
    {
     "data": {
      "text/plain": [
       "tensor([[[0.1152, 0.3045, 0.9668, 0.4757],\n",
       "         [0.6554, 0.3896, 0.2972, 0.3970],\n",
       "         [0.0423, 0.3608, 0.8001, 0.5006]],\n",
       "\n",
       "        [[0.4656, 0.6131, 0.2341, 0.9669],\n",
       "         [0.3903, 0.8170, 0.1489, 0.8647],\n",
       "         [0.4264, 0.4787, 0.3217, 0.6330]]])"
      ]
     },
     "execution_count": 7,
     "metadata": {},
     "output_type": "execute_result"
    }
   ],
   "source": [
    "pt.stack([a, b], axis=0)"
   ]
  },
  {
   "cell_type": "code",
   "execution_count": null,
   "metadata": {},
   "outputs": [],
   "source": []
  }
 ],
 "metadata": {
  "kernelspec": {
   "display_name": "Python 3",
   "language": "python",
   "name": "python3"
  },
  "language_info": {
   "codemirror_mode": {
    "name": "ipython",
    "version": 3
   },
   "file_extension": ".py",
   "mimetype": "text/x-python",
   "name": "python",
   "nbconvert_exporter": "python",
   "pygments_lexer": "ipython3",
   "version": "3.7.5"
  }
 },
 "nbformat": 4,
 "nbformat_minor": 2
}
